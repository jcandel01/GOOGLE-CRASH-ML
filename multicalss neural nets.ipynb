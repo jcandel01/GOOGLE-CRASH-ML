{
 "cells": [
  {
   "cell_type": "markdown",
   "id": "753b77e1",
   "metadata": {},
   "source": [
    "# MULTI-CLASS CLASSIFICATION"
   ]
  },
  {
   "cell_type": "markdown",
   "id": "bf05381a",
   "metadata": {},
   "source": [
    "## Learning Objectives:\n",
    "After doing this Colab, you'll know how to do the following:\n",
    "\n",
    "* Understand the classic MNIST problem.\n",
    "* Create a deep neural network that performs multi-class classification.\n",
    "* Tune the deep neural network.\n",
    "\n",
    "This exercise introduces image classification with machine learning."
   ]
  },
  {
   "cell_type": "markdown",
   "id": "1ac0d9fb",
   "metadata": {},
   "source": [
    "## The Dataset\n",
    "  \n",
    "This MNIST dataset contains a lot of examples:\n",
    "\n",
    "* The MNIST training set contains 60,000 examples.\n",
    "* The MNIST test set contains 10,000 examples.\n",
    "\n",
    "Each example contains a pixel map showing how a person wrote a digit. For example, the following images shows how a person wrote the digit `1` and how that digit might be represented in a 14x14 pixel map (after the input data is normalized). \n",
    "\n",
    "![Two images. The first image shows a somewhat fuzzy digit one. The second image shows a 14x14 floating-point array in which most of the cells contain 0 but a few cells contain values between 0.0 and 1.0. The pattern of nonzero values corresponds to the image of the fuzzy digit in the first image.](https://www.tensorflow.org/images/MNIST-Matrix.png)\n",
    "\n",
    "Each example in the MNIST dataset consists of:\n",
    "\n",
    "* A label specified by a [rater](https://developers.google.com/machine-learning/glossary/#rater).  Each label must be an integer from 0 to 9.  For example, in the preceding image, the rater would almost certainly assign the label `1` to the example.\n",
    "* A 28x28 pixel map, where each pixel is an integer between 0 and 255. The pixel values are on a gray scale in which 0 represents white, 255 represents black, and values between 0 and 255 represent various shades of gray.  \n",
    "\n",
    "This is a multi-class classification problem with 10 output classes, one for each digit."
   ]
  },
  {
   "cell_type": "code",
   "execution_count": 1,
   "id": "1bd3a9d1",
   "metadata": {},
   "outputs": [
    {
     "name": "stdout",
     "output_type": "stream",
     "text": [
      "modulos importados con exito\n"
     ]
    }
   ],
   "source": [
    "import numpy as np\n",
    "import tensorflow as tf\n",
    "from tensorflow.keras import layers\n",
    "import pandas as pd\n",
    "from matplotlib import pyplot as plt \n",
    "\n",
    "pd.options.display.max_rows = 10\n",
    "pd.options.display.float_format=\"{:.1f}\".format\n",
    "\n",
    "# The following line improves formatting when ouputting NumPy arrays.\n",
    "np.set_printoptions(linewidth = 200)\n",
    "\n",
    "print(\"modulos importados con exito\")"
   ]
  },
  {
   "cell_type": "markdown",
   "id": "6ea05c22",
   "metadata": {},
   "source": [
    "Ahora importamos los datasets de imagenes que tensorflow.keras provides us el mnist y lo cargamos con .load_data()"
   ]
  },
  {
   "cell_type": "code",
   "execution_count": 4,
   "id": "cd6cfdf6",
   "metadata": {},
   "outputs": [
    {
     "name": "stdout",
     "output_type": "stream",
     "text": [
      "bases de datos cargadas con exito\n"
     ]
    }
   ],
   "source": [
    "(x_train, y_train), (x_test, y_test) = tf.keras.datasets.mnist.load_data()\n",
    "\n",
    "# the mnist csv training set is already shuffled\n",
    "print(\"bases de datos cargadas con exito\")"
   ]
  },
  {
   "cell_type": "markdown",
   "id": "ac2681ae",
   "metadata": {},
   "source": [
    "### Viaualize the Data\n",
    "The data in california Housing dataset was organized in columns. by contrast, the csv MNIST does not contain column names. Instead of column's names you use cardinal number to acces the differenet subsets of mnist dataset.\n",
    "\n",
    "If you want to see one example you simply x_train[numero q sea] y si quieres verlo como imagen en vez de como una matriz (que es lo suyo si te quieres enterar de lo que ves) --> plt.imshow(x_train[numero que sea])\n",
    "\n",
    "\n",
    "\n"
   ]
  },
  {
   "cell_type": "code",
   "execution_count": 10,
   "id": "17e88d8a",
   "metadata": {},
   "outputs": [
    {
     "data": {
      "text/plain": [
       "<matplotlib.image.AxesImage at 0x276ac0c0c40>"
      ]
     },
     "execution_count": 10,
     "metadata": {},
     "output_type": "execute_result"
    },
    {
     "data": {
      "image/png": "[encoded data removed]",
      "text/plain": [
       "<Figure size 432x288 with 1 Axes>"
      ]
     },
     "metadata": {
      "needs_background": "light"
     },
     "output_type": "display_data"
    }
   ],
   "source": [
    "#cargamos la imagen \n",
    "plt.imshow(x_train[2917])"
   ]
  },
  {
   "cell_type": "code",
   "execution_count": 9,
   "id": "2f064fd4",
   "metadata": {},
   "outputs": [
    {
     "data": {
      "text/plain": [
       "3"
      ]
     },
     "execution_count": 9,
     "metadata": {},
     "output_type": "execute_result"
    }
   ],
   "source": [
    "# Aqui cargamos el label que le corresponde para ver si es cierto\n",
    "y_train[2917]"
   ]
  },
  {
   "cell_type": "code",
   "execution_count": 13,
   "id": "655d1c25",
   "metadata": {},
   "outputs": [
    {
     "data": {
      "text/plain": [
       "array([  0,   0,   0,   0,   0,   0,   0,   0,   0,   0,   0,   0,   0,   0,   0,   0,  58, 254, 216,  11,   0,   0,   0,   0,   0,   0,   0,   0], dtype=uint8)"
      ]
     },
     "execution_count": 13,
     "metadata": {},
     "output_type": "execute_result"
    }
   ],
   "source": [
    "# Luego, a parte, tambien puedes mostrar filas de pixeles o pixeles unicos directamente, si eso te sirve para algo\n",
    "x_train[2917][10]\n",
    "#x_train[2917][10][13]"
   ]
  },
  {
   "cell_type": "code",
   "execution_count": 16,
   "id": "91a934b7",
   "metadata": {},
   "outputs": [
    {
     "data": {
      "text/plain": [
       "254"
      ]
     },
     "execution_count": 16,
     "metadata": {},
     "output_type": "execute_result"
    }
   ],
   "source": [
    "x_train[2917][10][17]"
   ]
  },
  {
   "cell_type": "markdown",
   "id": "72bb3107",
   "metadata": {},
   "source": [
    "### Normalize the Data\n",
    "Como sabes que cada pixel (un numero del array de los que esta compuesto cada imagen. cada numero = un pixel) esta entre 0 y 255 pues con dividir entre 255 se te queda normalizado (entre 0 y 1)"
   ]
  },
  {
   "cell_type": "code",
   "execution_count": 19,
   "id": "422f34d4",
   "metadata": {},
   "outputs": [
    {
     "name": "stdout",
     "output_type": "stream",
     "text": [
      "[0.         0.         0.         0.         0.         0.         0.         0.         0.         0.         0.         0.         0.         0.         0.         0.         0.22745098 0.99607843\n",
      " 0.84705882 0.04313725 0.         0.         0.         0.         0.         0.         0.         0.        ]\n"
     ]
    }
   ],
   "source": [
    "x_train_normalized = x_train/255\n",
    "x_test_normalized = y_train/255\n",
    "print(x_train_normalized[2917][10]) # Output a normalized row"
   ]
  },
  {
   "cell_type": "markdown",
   "id": "5bd26916",
   "metadata": {},
   "source": [
    "### Define a Ploting Function"
   ]
  },
  {
   "cell_type": "code",
   "execution_count": 20,
   "id": "c8165238",
   "metadata": {},
   "outputs": [
    {
     "name": "stdout",
     "output_type": "stream",
     "text": [
      "Loaded the plot_curve function.\n"
     ]
    }
   ],
   "source": [
    "def plot_curve(epochs, hist, list_of_metrics):\n",
    "    \n",
    "    # list_of_metrics should be one of the names shown in:\n",
    "    # https://www.tensorflow.org/tutorials/structured_data/imbalanced_data#define_the_model_and_metrics  \n",
    "    \n",
    "    plt.figure()\n",
    "    plt.xlabel(\"Epochs\")\n",
    "    plt.yLabel(\"Value\")\n",
    "    \n",
    "    for m in list_of_metrics:\n",
    "        \n",
    "        x = hist[m]\n",
    "        plt.plot(epochs[1:], x[1:], label=m)\n",
    "        \n",
    "    plt.legend()\n",
    "    \n",
    "print(\"Loaded the plot_curve function.\")"
   ]
  },
  {
   "cell_type": "markdown",
   "id": "69677f6e",
   "metadata": {},
   "source": [
    "### Create a Deep Neural Net Model"
   ]
  },
  {
   "cell_type": "code",
   "execution_count": 21,
   "id": "5c0fb394",
   "metadata": {},
   "outputs": [],
   "source": [
    "def create_model(learning_rate):\n",
    "    \n",
    "    model = tf.keras.models.Sequential()\n",
    "    \n",
    "    # The features stored are in two dimensional 28x28, so we have to flatten it to only one dimension 784 pasandolos a traves de este primer layer\n",
    "    model.add(tf.keras.layers.Flatten(input_shape=(28, 28)))\n",
    "    \n",
    "    # Ahora añade el primer layer que recoja todos los datos ya con la activation function relu\n",
    "    model.add(tf.keras.layers.Dense(units=20, activation= 'relu'))\n",
    "    \n",
    "    # Añade un dropout para regularizar los valores que pasa al output, igual que usas este podria ser otro layer con L1 o L2\n",
    "    model.add(tf.keras.layers.Dropout(rate=0.2))\n",
    "    \n",
    "    # AHora en el output usas the activation dunction 'softmax' para que de 10 different outputs cada uno con la probabilidad de\n",
    "    # que el feature que entra por el input sea uno de los numeros del 0-9\n",
    "    model.add(tf.keras.layers.Dense(units= 10, activation= 'softmax'))\n",
    "    \n",
    "    model.compile(optimizer=tf.keras.optimizers.Adam(lr=learning_rate),\n",
    "                 loss=\"sparse_categorical_crossentropy\",\n",
    "                 metrics=['accuracy'])\n",
    "    \n",
    "    return model\n",
    "\n",
    "def train_model(model, df, epochs, batch_size, label_name):\n",
    "    #seguir por aqui\n",
    "    "
   ]
  },
  {
   "cell_type": "code",
   "execution_count": null,
   "id": "9130497c",
   "metadata": {},
   "outputs": [],
   "source": []
  }
 ],
 "metadata": {
  "kernelspec": {
   "display_name": "Python 3",
   "language": "python",
   "name": "python3"
  },
  "language_info": {
   "codemirror_mode": {
    "name": "ipython",
    "version": 3
   },
   "file_extension": ".py",
   "mimetype": "text/x-python",
   "name": "python",
   "nbconvert_exporter": "python",
   "pygments_lexer": "ipython3",
   "version": "3.8.8"
  }
 },
 "nbformat": 4,
 "nbformat_minor": 5
}
