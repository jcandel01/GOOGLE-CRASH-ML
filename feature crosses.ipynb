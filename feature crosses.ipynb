{
 "cells": [
  {
   "cell_type": "markdown",
   "id": "c7d6f118",
   "metadata": {},
   "source": [
    "# REPRESENTATION WITH FEATURE CROSS"
   ]
  },
  {
   "cell_type": "markdown",
   "id": "31f63996",
   "metadata": {},
   "source": [
    "Despues de hacer este ejercicio sabras:\n",
    "\n",
    "- usar tf.feature_column methods para representar features in different ways\n",
    " \n",
    "- representar features as bins\n",
    " \n",
    "- cross bins to create a feature cross"
   ]
  },
  {
   "cell_type": "markdown",
   "id": "12f39ac0",
   "metadata": {},
   "source": [
    "Como en los ejercicios anteriores, usaremos el dataset de houses of california"
   ]
  },
  {
   "cell_type": "code",
   "execution_count": 21,
   "id": "e0616c40",
   "metadata": {},
   "outputs": [
    {
     "name": "stdout",
     "output_type": "stream",
     "text": [
      "ok\n"
     ]
    }
   ],
   "source": [
    "import tensorflow as tf\n",
    "from tensorflow.keras import layers\n",
    "from tensorflow import feature_column\n",
    "import pandas as pd\n",
    "import numpy as np\n",
    "from matplotlib import pyplot as plt\n",
    "\n",
    "pd.options.display.max_rows = 10\n",
    "pd.options.display.float_format = \"{:.1f}\".format\n",
    "\n",
    "tf.keras.backend.set_floatx('float32')\n",
    "\n",
    "print(\"ok\")"
   ]
  },
  {
   "cell_type": "code",
   "execution_count": 22,
   "id": "93564d02",
   "metadata": {},
   "outputs": [
    {
     "data": {
      "text/html": [
       "<div>\n",
       "<style scoped>\n",
       "    .dataframe tbody tr th:only-of-type {\n",
       "        vertical-align: middle;\n",
       "    }\n",
       "\n",
       "    .dataframe tbody tr th {\n",
       "        vertical-align: top;\n",
       "    }\n",
       "\n",
       "    .dataframe thead th {\n",
       "        text-align: right;\n",
       "    }\n",
       "</style>\n",
       "<table border=\"1\" class=\"dataframe\">\n",
       "  <thead>\n",
       "    <tr style=\"text-align: right;\">\n",
       "      <th></th>\n",
       "      <th>longitude</th>\n",
       "      <th>latitude</th>\n",
       "      <th>housing_median_age</th>\n",
       "      <th>total_rooms</th>\n",
       "      <th>total_bedrooms</th>\n",
       "      <th>population</th>\n",
       "      <th>households</th>\n",
       "      <th>median_income</th>\n",
       "      <th>median_house_value</th>\n",
       "    </tr>\n",
       "  </thead>\n",
       "  <tbody>\n",
       "    <tr>\n",
       "      <th>16929</th>\n",
       "      <td>-124.1</td>\n",
       "      <td>40.9</td>\n",
       "      <td>25.0</td>\n",
       "      <td>2392.0</td>\n",
       "      <td>474.0</td>\n",
       "      <td>1298.0</td>\n",
       "      <td>461.0</td>\n",
       "      <td>3.5</td>\n",
       "      <td>73.6</td>\n",
       "    </tr>\n",
       "    <tr>\n",
       "      <th>3777</th>\n",
       "      <td>-117.9</td>\n",
       "      <td>34.1</td>\n",
       "      <td>33.0</td>\n",
       "      <td>859.0</td>\n",
       "      <td>144.0</td>\n",
       "      <td>421.0</td>\n",
       "      <td>138.0</td>\n",
       "      <td>4.5</td>\n",
       "      <td>220.1</td>\n",
       "    </tr>\n",
       "    <tr>\n",
       "      <th>12489</th>\n",
       "      <td>-121.6</td>\n",
       "      <td>39.1</td>\n",
       "      <td>26.0</td>\n",
       "      <td>1405.0</td>\n",
       "      <td>204.0</td>\n",
       "      <td>627.0</td>\n",
       "      <td>215.0</td>\n",
       "      <td>4.2</td>\n",
       "      <td>94.2</td>\n",
       "    </tr>\n",
       "    <tr>\n",
       "      <th>14413</th>\n",
       "      <td>-122.1</td>\n",
       "      <td>37.4</td>\n",
       "      <td>33.0</td>\n",
       "      <td>1509.0</td>\n",
       "      <td>303.0</td>\n",
       "      <td>748.0</td>\n",
       "      <td>268.0</td>\n",
       "      <td>4.9</td>\n",
       "      <td>373.4</td>\n",
       "    </tr>\n",
       "    <tr>\n",
       "      <th>13937</th>\n",
       "      <td>-122.0</td>\n",
       "      <td>37.3</td>\n",
       "      <td>22.0</td>\n",
       "      <td>3583.0</td>\n",
       "      <td>758.0</td>\n",
       "      <td>1792.0</td>\n",
       "      <td>695.0</td>\n",
       "      <td>5.5</td>\n",
       "      <td>335.3</td>\n",
       "    </tr>\n",
       "  </tbody>\n",
       "</table>\n",
       "</div>"
      ],
      "text/plain": [
       "       longitude  latitude  housing_median_age  total_rooms  total_bedrooms  \\\n",
       "16929     -124.1      40.9                25.0       2392.0           474.0   \n",
       "3777      -117.9      34.1                33.0        859.0           144.0   \n",
       "12489     -121.6      39.1                26.0       1405.0           204.0   \n",
       "14413     -122.1      37.4                33.0       1509.0           303.0   \n",
       "13937     -122.0      37.3                22.0       3583.0           758.0   \n",
       "\n",
       "       population  households  median_income  median_house_value  \n",
       "16929      1298.0       461.0            3.5                73.6  \n",
       "3777        421.0       138.0            4.5               220.1  \n",
       "12489       627.0       215.0            4.2                94.2  \n",
       "14413       748.0       268.0            4.9               373.4  \n",
       "13937      1792.0       695.0            5.5               335.3  "
      ]
     },
     "execution_count": 22,
     "metadata": {},
     "output_type": "execute_result"
    }
   ],
   "source": [
    "# load examples\n",
    "train_df = pd.read_csv(\"https://download.mlcc.google.com/mledu-datasets/california_housing_train.csv\")\n",
    "test_df = pd.read_csv(\"https://download.mlcc.google.com/mledu-datasets/california_housing_test.csv\")\n",
    "\n",
    "#scale them\n",
    "train_df['median_house_value'] /= 1000\n",
    "test_df['median_house_value'] /= 1000\n",
    "\n",
    "#shuffle the train 'cause it's ordered by longitud so when dividing between train and validation sets won't work other ways\n",
    "train_df = train_df.reindex(np.random.permutation(train_df.index)) #re-mete valores en train_df con una permutacion randon de train_df\n",
    "\n",
    "train_df.head()"
   ]
  },
  {
   "cell_type": "markdown",
   "id": "73d3c793",
   "metadata": {},
   "source": [
    "### REPRESENT LATITUDE AND LONGITUDE AS FLOAT VALUES"
   ]
  },
  {
   "cell_type": "markdown",
   "id": "bd506bea",
   "metadata": {},
   "source": [
    "Este ejercicio trains sobre two features. Ademas, este ejercicio nos introduce a feature columns que es una manera sofisticada de representar features:\n",
    "\n",
    "   - you call a tf.feature_column method to represent  a single feature, single feature cross, or single synthetic feature in the desired way. For example, to represent a certain feature as floating point values, call tf.feature_column.numeric_column . To represent a certain feature as a series of buckets or bins, call tf.feature_column.bucketiced_column.\n",
    "    \n",
    "   - Assemble the created represetations into a Python list.\n",
    "    \n",
    "A neighborhood's location is typically the most important feature in determining a house's value. The California Housing dataset provides two features, latitude and longitude that identify each neighborhood's location.\n",
    "\n",
    "The following code cell calls --tf.feature_column.numeric_column-- twice, first to represent latitude as floating-point value and a second time to represent longitude as floating-point\n",
    "\n",
    "This code cell specifies the features that you'll ultimately train the model on and how each of those features will be represented. The transformations (collected in fp_feature_layer) don't actually get applied until you pass a DataFrame to it, which will happen when we train the model."
   ]
  },
  {
   "cell_type": "markdown",
   "id": "5c9ca585",
   "metadata": {},
   "source": [
    "Con esto aprendemos a crear modelos que utilicen tantos features como queramos"
   ]
  },
  {
   "cell_type": "code",
   "execution_count": 23,
   "id": "9d66828a",
   "metadata": {},
   "outputs": [],
   "source": [
    "#primero se crea una lista que contendra las feature columns\n",
    "feature_columns = []\n",
    "\n",
    "#se crea a numerical feature column to represent latitude (es un array vacio donde van a ir las latitudes y tratadas como floats)\n",
    "latitude = tf.feature_column.numeric_column(\"latitude\")\n",
    "feature_columns.append(latitude)\n",
    "\n",
    "#se crea a numerical feature column to represent longitude (es un array vacio donde van a ir las latitudes y tratadas como floats)\n",
    "longitude = tf.feature_column.numeric_column(\"longitude\")\n",
    "feature_columns.append(longitude)\n",
    "\n",
    "#ahora convertimos feature_columns en un layer del modelo\n",
    "fp_feature_layer = layers.DenseFeatures(feature_columns)\n",
    "\n"
   ]
  },
  {
   "cell_type": "markdown",
   "id": "d277c4f9",
   "metadata": {},
   "source": [
    "The transformations (collected in fp_feature_layer) don't actually get applied til you pass a DataFrame to it, which will happen when we train the model. The layer processes de raw input, acording to the transformations described by the feature columns, and pack the results into a numeric array. The model will train on this numeric array."
   ]
  },
  {
   "cell_type": "markdown",
   "id": "626e14ba",
   "metadata": {},
   "source": [
    "Ahora se crean las funciones que crean el modelo, lo entrenan y crean el grafico para representarlo"
   ]
  },
  {
   "cell_type": "code",
   "execution_count": 24,
   "id": "f3a487f7",
   "metadata": {},
   "outputs": [],
   "source": [
    "def build_model(learning_rate,feature_layer):\n",
    "    \n",
    "    model = tf.keras.models.Sequential()\n",
    "    \n",
    "    #añade el layer que contiene the feature columns\n",
    "    model.add(feature_layer)\n",
    "    \n",
    "    #add one linear layer to the model to yield a simple linear regressor.\n",
    "    model.add(tf.keras.layers.Dense(units = 1, input_shape=(1,)))\n",
    "    \n",
    "    #convert the layers asi unidos a pelo, en un modelo que tensorflow pueda entender\n",
    "    model.compile(optimizer = tf.keras.optimizers.RMSprop(lr=learning_rate),\n",
    "                 loss=\"mean_squared_error\",\n",
    "                 metrics=[tf.keras.metrics.RootMeanSquaredError()])\n",
    "    \n",
    "    return model\n",
    "\n",
    "def train_model(model, dataset, epochs, batch_size, label_name):\n",
    "    \n",
    "    features = {name:np.array(value) for name, value in dataset.items()}\n",
    "    label = np.array(features.pop(label_name))\n",
    "    \n",
    "    history = model.fit(x = features,\n",
    "                       y = label,\n",
    "                       batch_size = batch_size,\n",
    "                       epochs = epochs,\n",
    "                       shuffle = True)\n",
    "    \n",
    "    epochs = history.epoch\n",
    "    \n",
    "    hist = pd.DataFrame(history.history)\n",
    "    rmse = hist[\"root_mean_squared_error\"]\n",
    "    \n",
    "    return epochs, rmse\n",
    "\n",
    "def test_model(model, dataset, batch_size):\n",
    "    \n",
    "    test_features = {name:np.array(value) for name, value in dataset.items()}\n",
    "    test_label = np.array(test_features.pop(label_name))\n",
    "    model.evaluate(x = test_features,\n",
    "                  y= test_label,\n",
    "                  batch_size = batch_size)\n",
    "\n",
    "def plot_the_loss_curve(epochs, rmse):\n",
    "    \n",
    "  plt.figure()\n",
    "  plt.xlabel(\"Epoch\")\n",
    "  plt.ylabel(\"Root Mean Squared Error\")\n",
    "\n",
    "  plt.plot(epochs, rmse, label=\"Loss\")\n",
    "  plt.legend()\n",
    "  plt.ylim([rmse.min()*0.94, rmse.max()* 1.05])\n",
    "  plt.show() "
   ]
  },
  {
   "cell_type": "markdown",
   "id": "2c2a651c",
   "metadata": {},
   "source": [
    "Ahora crea el modelo, entrenalo y evalualo"
   ]
  },
  {
   "cell_type": "code",
   "execution_count": 25,
   "id": "632ff139",
   "metadata": {},
   "outputs": [
    {
     "name": "stdout",
     "output_type": "stream",
     "text": [
      "Epoch 1/30\n",
      "WARNING:tensorflow:Layers in a Sequential model should only have a single input tensor, but we receive a <class 'dict'> input: {'longitude': <tf.Tensor 'ExpandDims_3:0' shape=(100, 1) dtype=float32>, 'latitude': <tf.Tensor 'ExpandDims_2:0' shape=(100, 1) dtype=float32>, 'housing_median_age': <tf.Tensor 'ExpandDims_1:0' shape=(100, 1) dtype=float32>, 'total_rooms': <tf.Tensor 'ExpandDims_7:0' shape=(100, 1) dtype=float32>, 'total_bedrooms': <tf.Tensor 'ExpandDims_6:0' shape=(100, 1) dtype=float32>, 'population': <tf.Tensor 'ExpandDims_5:0' shape=(100, 1) dtype=float32>, 'households': <tf.Tensor 'ExpandDims:0' shape=(100, 1) dtype=float32>, 'median_income': <tf.Tensor 'ExpandDims_4:0' shape=(100, 1) dtype=float32>}\n",
      "Consider rewriting this model with the Functional API.\n"
     ]
    },
    {
     "name": "stderr",
     "output_type": "stream",
     "text": [
      "C:\\Users\\Candel\\anaconda3\\lib\\site-packages\\tensorflow\\python\\keras\\optimizer_v2\\optimizer_v2.py:374: UserWarning: The `lr` argument is deprecated, use `learning_rate` instead.\n",
      "  warnings.warn(\n"
     ]
    },
    {
     "name": "stdout",
     "output_type": "stream",
     "text": [
      "WARNING:tensorflow:Layers in a Sequential model should only have a single input tensor, but we receive a <class 'dict'> input: {'longitude': <tf.Tensor 'ExpandDims_3:0' shape=(100, 1) dtype=float32>, 'latitude': <tf.Tensor 'ExpandDims_2:0' shape=(100, 1) dtype=float32>, 'housing_median_age': <tf.Tensor 'ExpandDims_1:0' shape=(100, 1) dtype=float32>, 'total_rooms': <tf.Tensor 'ExpandDims_7:0' shape=(100, 1) dtype=float32>, 'total_bedrooms': <tf.Tensor 'ExpandDims_6:0' shape=(100, 1) dtype=float32>, 'population': <tf.Tensor 'ExpandDims_5:0' shape=(100, 1) dtype=float32>, 'households': <tf.Tensor 'ExpandDims:0' shape=(100, 1) dtype=float32>, 'median_income': <tf.Tensor 'ExpandDims_4:0' shape=(100, 1) dtype=float32>}\n",
      "Consider rewriting this model with the Functional API.\n",
      "170/170 [==============================] - 1s 2ms/step - loss: 13589.0078 - root_mean_squared_error: 116.5719\n",
      "Epoch 2/30\n",
      "170/170 [==============================] - 0s 2ms/step - loss: 13488.7920 - root_mean_squared_error: 116.1413\n",
      "Epoch 3/30\n",
      "170/170 [==============================] - 0s 2ms/step - loss: 13454.6201 - root_mean_squared_error: 115.9940\n",
      "Epoch 4/30\n",
      "170/170 [==============================] - 0s 2ms/step - loss: 13402.1113 - root_mean_squared_error: 115.7675\n",
      "Epoch 5/30\n",
      "170/170 [==============================] - 0s 2ms/step - loss: 13353.6465 - root_mean_squared_error: 115.5580\n",
      "Epoch 6/30\n",
      "170/170 [==============================] - 0s 2ms/step - loss: 13320.5117 - root_mean_squared_error: 115.4145\n",
      "Epoch 7/30\n",
      "170/170 [==============================] - 0s 2ms/step - loss: 13273.4902 - root_mean_squared_error: 115.2106\n",
      "Epoch 8/30\n",
      "170/170 [==============================] - 0s 2ms/step - loss: 13241.6709 - root_mean_squared_error: 115.0725\n",
      "Epoch 9/30\n",
      "170/170 [==============================] - 0s 2ms/step - loss: 13202.4541 - root_mean_squared_error: 114.9019\n",
      "Epoch 10/30\n",
      "170/170 [==============================] - 0s 1ms/step - loss: 13166.0488 - root_mean_squared_error: 114.7434\n",
      "Epoch 11/30\n",
      "170/170 [==============================] - 0s 2ms/step - loss: 13139.4453 - root_mean_squared_error: 114.6274\n",
      "Epoch 12/30\n",
      "170/170 [==============================] - 0s 2ms/step - loss: 13117.3027 - root_mean_squared_error: 114.5308\n",
      "Epoch 13/30\n",
      "170/170 [==============================] - 0s 2ms/step - loss: 13083.4805 - root_mean_squared_error: 114.3830\n",
      "Epoch 14/30\n",
      "170/170 [==============================] - 0s 2ms/step - loss: 13064.8135 - root_mean_squared_error: 114.3014\n",
      "Epoch 15/30\n",
      "170/170 [==============================] - 0s 2ms/step - loss: 13033.5791 - root_mean_squared_error: 114.1647A: 0s - loss: 12900.2734 - root_mean_squared_error: 113.579\n",
      "Epoch 16/30\n",
      "170/170 [==============================] - 0s 2ms/step - loss: 13026.1885 - root_mean_squared_error: 114.1323\n",
      "Epoch 17/30\n",
      "170/170 [==============================] - 0s 2ms/step - loss: 12998.3242 - root_mean_squared_error: 114.0102\n",
      "Epoch 18/30\n",
      "170/170 [==============================] - 0s 2ms/step - loss: 12991.8867 - root_mean_squared_error: 113.9820\n",
      "Epoch 19/30\n",
      "170/170 [==============================] - 0s 2ms/step - loss: 12972.5996 - root_mean_squared_error: 113.8973\n",
      "Epoch 20/30\n",
      "170/170 [==============================] - 0s 2ms/step - loss: 12957.7598 - root_mean_squared_error: 113.8322\n",
      "Epoch 21/30\n",
      "170/170 [==============================] - 0s 2ms/step - loss: 12946.0801 - root_mean_squared_error: 113.7808\n",
      "Epoch 22/30\n",
      "170/170 [==============================] - 0s 2ms/step - loss: 12915.2646 - root_mean_squared_error: 113.6453\n",
      "Epoch 23/30\n",
      "170/170 [==============================] - 0s 2ms/step - loss: 12906.0928 - root_mean_squared_error: 113.6050\n",
      "Epoch 24/30\n",
      "170/170 [==============================] - 0s 2ms/step - loss: 12893.0557 - root_mean_squared_error: 113.5476\n",
      "Epoch 25/30\n",
      "170/170 [==============================] - 0s 2ms/step - loss: 12885.7012 - root_mean_squared_error: 113.5152\n",
      "Epoch 26/30\n",
      "170/170 [==============================] - 0s 2ms/step - loss: 12881.6914 - root_mean_squared_error: 113.4975\n",
      "Epoch 27/30\n",
      "170/170 [==============================] - 0s 2ms/step - loss: 12866.7285 - root_mean_squared_error: 113.4316\n",
      "Epoch 28/30\n",
      "170/170 [==============================] - 0s 2ms/step - loss: 12848.8965 - root_mean_squared_error: 113.3530\n",
      "Epoch 29/30\n",
      "170/170 [==============================] - 0s 2ms/step - loss: 12849.7578 - root_mean_squared_error: 113.3568\n",
      "Epoch 30/30\n",
      "170/170 [==============================] - 0s 2ms/step - loss: 12834.9229 - root_mean_squared_error: 113.2913\n"
     ]
    },
    {
     "data": {
      "image/png": "[encoded data removed]",
      "text/plain": [
       "<Figure size 432x288 with 1 Axes>"
      ]
     },
     "metadata": {
      "needs_background": "light"
     },
     "output_type": "display_data"
    },
    {
     "name": "stdout",
     "output_type": "stream",
     "text": [
      "\n",
      ": Evaluate the new model against the test set:\n",
      "WARNING:tensorflow:Layers in a Sequential model should only have a single input tensor, but we receive a <class 'dict'> input: {'longitude': <tf.Tensor 'ExpandDims_3:0' shape=(100, 1) dtype=float32>, 'latitude': <tf.Tensor 'ExpandDims_2:0' shape=(100, 1) dtype=float32>, 'housing_median_age': <tf.Tensor 'ExpandDims_1:0' shape=(100, 1) dtype=float32>, 'total_rooms': <tf.Tensor 'ExpandDims_7:0' shape=(100, 1) dtype=float32>, 'total_bedrooms': <tf.Tensor 'ExpandDims_6:0' shape=(100, 1) dtype=float32>, 'population': <tf.Tensor 'ExpandDims_5:0' shape=(100, 1) dtype=float32>, 'households': <tf.Tensor 'ExpandDims:0' shape=(100, 1) dtype=float32>, 'median_income': <tf.Tensor 'ExpandDims_4:0' shape=(100, 1) dtype=float32>}\n",
      "Consider rewriting this model with the Functional API.\n",
      "30/30 [==============================] - 0s 1ms/step - loss: 12213.2373 - root_mean_squared_error: 110.5135\n"
     ]
    }
   ],
   "source": [
    "learning_rate = 0.05\n",
    "epochs = 30\n",
    "batch_size = 100\n",
    "label_name = \"median_house_value\"\n",
    "\n",
    "my_model = None\n",
    "my_model = build_model(learning_rate, fp_feature_layer) # añades el feature layer que has creado con latitude y longitude\n",
    "                                                        # para q pueda crear el label que crea el cross feature y trate los datos\n",
    "\n",
    "epochs, rmse = train_model(my_model, train_df, epochs, batch_size, label_name)\n",
    "\n",
    "plot_the_loss_curve(epochs, rmse)\n",
    "\n",
    "\n",
    "print(\"\\n: Evaluate the new model against the test set:\")\n",
    "\n",
    "test_model(my_model, test_df, batch_size)"
   ]
  },
  {
   "cell_type": "markdown",
   "id": "0ef0c051",
   "metadata": {},
   "source": [
    "Como podemos ver, representar las latitudes como variables floats para querer crear un modelo lo tiene sentido ya que la diferencia entre la latitud 35'7 y la 35'9, en cuanto al precio, es insignificante. Por eso es mejor agruparlas en buckets, es decir, convertir la variable continua a variable discreta"
   ]
  },
  {
   "cell_type": "markdown",
   "id": "33b63e63",
   "metadata": {},
   "source": [
    "##### Vamos A Representar la Latitud y la Longitud in Buckets"
   ]
  },
  {
   "cell_type": "markdown",
   "id": "a261d37d",
   "metadata": {},
   "source": [
    "El siguiente codigo representa la latitud y la longitud in buckets(bins). Each bin represents al the neighborhoods within a single degree. For example, neighborhoods in 35'2 and 3'9 are in the same bucket, but neighborhoods in latitude 36'3 are in different buckets.\n",
    "\n",
    "The model will learn a separate weight for each bucket. for example, the model will learn one weight fo al the neighborhoods in the \"35\"bin, and a different for neighborhoods in the \"36\"bin, and so on. This representation will create aprox 20 buckets:\n",
    "\n",
    "- 10 buckets for latitude\n",
    "- 10 for longitude\n"
   ]
  },
  {
   "cell_type": "code",
   "execution_count": 26,
   "id": "1aaacb5d",
   "metadata": {},
   "outputs": [],
   "source": [
    "#creas la diferencia de grados entre bucket y bucket. lo que comprende cada uno\n",
    "resolution_in_degrees = 1.0\n",
    "\n",
    "#creas a new empty list that will contain the generated featured columns\n",
    "feature_columns_2 = []\n",
    "\n",
    "#creas la columna para latitude\n",
    "latitude_as_a_numeric_column = tf.feature_column.numeric_column(\"latitude\") #creas un array numerico donde van las latitudes\n",
    "latitude_boundaries = list(np.arange(int(min(train_df['latitude'])),        # creas una lista donde divides grado a grado desde\n",
    "                                    int(max(train_df['latitude'])),         # la latitud mas pequeña hasta la mayor\n",
    "                                    resolution_in_degrees))\n",
    "#creas la feature column donde coge las latitudes y: 1º las transforma a float bonito con el lat_as_a_numeric, y luego las agrupa en\n",
    "#los grupos grado a grado que tiene latitude_boundaries. Asi queda una array donde cada valor es una lista con todos valores\n",
    "#del mismo grado, independientemente de los minnutos ' y segundos \"\n",
    "latitude_buckets = tf.feature_column.bucketized_column(latitude_as_a_numeric_column, latitude_boundaries)\n",
    "\n",
    "feature_columns_2.append(latitude_buckets)\n",
    "\n",
    "#Ahora lo mismo con las longitudes\n",
    "longitude_as_a_numeric_column = tf.feature_column.numeric_column(\"longitude\")\n",
    "longitude_boundaries = list(np.arange(int(min(train_df['longitude'])),\n",
    "                                      int(max(train_df['longitude'])),\n",
    "                                      resolution_in_degrees))\n",
    "longitude_buckets = tf.feature_column.bucketized_column(longitude_as_a_numeric_column, longitude_boundaries)\n",
    "\n",
    "feature_columns_2.append(longitude_buckets)\n",
    "\n",
    "#ahora creas el layes para tratar los datos que los meta a cada uno en su bucket\n",
    "\n",
    "buckets_feature_layer = layers.DenseFeatures(feature_columns_2)\n"
   ]
  },
  {
   "cell_type": "markdown",
   "id": "1a278faf",
   "metadata": {},
   "source": [
    "Ahora entrenamos al modelo con este nuevo layer "
   ]
  },
  {
   "cell_type": "code",
   "execution_count": 27,
   "id": "dfc6ed94",
   "metadata": {},
   "outputs": [
    {
     "name": "stdout",
     "output_type": "stream",
     "text": [
      "Epoch 1/30\n",
      "WARNING:tensorflow:Layers in a Sequential model should only have a single input tensor, but we receive a <class 'dict'> input: {'longitude': <tf.Tensor 'ExpandDims_3:0' shape=(100, 1) dtype=float32>, 'latitude': <tf.Tensor 'ExpandDims_2:0' shape=(100, 1) dtype=float32>, 'housing_median_age': <tf.Tensor 'ExpandDims_1:0' shape=(100, 1) dtype=float32>, 'total_rooms': <tf.Tensor 'ExpandDims_7:0' shape=(100, 1) dtype=float32>, 'total_bedrooms': <tf.Tensor 'ExpandDims_6:0' shape=(100, 1) dtype=float32>, 'population': <tf.Tensor 'ExpandDims_5:0' shape=(100, 1) dtype=float32>, 'households': <tf.Tensor 'ExpandDims:0' shape=(100, 1) dtype=float32>, 'median_income': <tf.Tensor 'ExpandDims_4:0' shape=(100, 1) dtype=float32>}\n",
      "Consider rewriting this model with the Functional API.\n"
     ]
    },
    {
     "name": "stderr",
     "output_type": "stream",
     "text": [
      "C:\\Users\\Candel\\anaconda3\\lib\\site-packages\\tensorflow\\python\\keras\\optimizer_v2\\optimizer_v2.py:374: UserWarning: The `lr` argument is deprecated, use `learning_rate` instead.\n",
      "  warnings.warn(\n"
     ]
    },
    {
     "name": "stdout",
     "output_type": "stream",
     "text": [
      "WARNING:tensorflow:Layers in a Sequential model should only have a single input tensor, but we receive a <class 'dict'> input: {'longitude': <tf.Tensor 'ExpandDims_3:0' shape=(100, 1) dtype=float32>, 'latitude': <tf.Tensor 'ExpandDims_2:0' shape=(100, 1) dtype=float32>, 'housing_median_age': <tf.Tensor 'ExpandDims_1:0' shape=(100, 1) dtype=float32>, 'total_rooms': <tf.Tensor 'ExpandDims_7:0' shape=(100, 1) dtype=float32>, 'total_bedrooms': <tf.Tensor 'ExpandDims_6:0' shape=(100, 1) dtype=float32>, 'population': <tf.Tensor 'ExpandDims_5:0' shape=(100, 1) dtype=float32>, 'households': <tf.Tensor 'ExpandDims:0' shape=(100, 1) dtype=float32>, 'median_income': <tf.Tensor 'ExpandDims_4:0' shape=(100, 1) dtype=float32>}\n",
      "Consider rewriting this model with the Functional API.\n",
      "170/170 [==============================] - 1s 2ms/step - loss: 50987.1914 - root_mean_squared_error: 225.8034\n",
      "Epoch 2/30\n",
      "170/170 [==============================] - 0s 2ms/step - loss: 42030.6211 - root_mean_squared_error: 205.0137\n",
      "Epoch 3/30\n",
      "170/170 [==============================] - 0s 2ms/step - loss: 34286.9805 - root_mean_squared_error: 185.1674\n",
      "Epoch 4/30\n",
      "170/170 [==============================] - 0s 2ms/step - loss: 27803.2520 - root_mean_squared_error: 166.7431\n",
      "Epoch 5/30\n",
      "170/170 [==============================] - 0s 2ms/step - loss: 22483.4336 - root_mean_squared_error: 149.9448\n",
      "Epoch 6/30\n",
      "170/170 [==============================] - 0s 2ms/step - loss: 18335.7969 - root_mean_squared_error: 135.4097\n",
      "Epoch 7/30\n",
      "170/170 [==============================] - 0s 2ms/step - loss: 15268.1152 - root_mean_squared_error: 123.5642\n",
      "Epoch 8/30\n",
      "170/170 [==============================] - 0s 2ms/step - loss: 13139.4082 - root_mean_squared_error: 114.6273\n",
      "Epoch 9/30\n",
      "170/170 [==============================] - 0s 2ms/step - loss: 11846.7939 - root_mean_squared_error: 108.8430\n",
      "Epoch 10/30\n",
      "170/170 [==============================] - 0s 2ms/step - loss: 11169.5225 - root_mean_squared_error: 105.6860\n",
      "Epoch 11/30\n",
      "170/170 [==============================] - 0s 2ms/step - loss: 10847.7256 - root_mean_squared_error: 104.1524\n",
      "Epoch 12/30\n",
      "170/170 [==============================] - 0s 2ms/step - loss: 10684.3848 - root_mean_squared_error: 103.3653\n",
      "Epoch 13/30\n",
      "170/170 [==============================] - 0s 2ms/step - loss: 10590.8447 - root_mean_squared_error: 102.9118\n",
      "Epoch 14/30\n",
      "170/170 [==============================] - 0s 2ms/step - loss: 10536.7822 - root_mean_squared_error: 102.6488\n",
      "Epoch 15/30\n",
      "170/170 [==============================] - 0s 2ms/step - loss: 10501.5615 - root_mean_squared_error: 102.4771\n",
      "Epoch 16/30\n",
      "170/170 [==============================] - 0s 2ms/step - loss: 10477.3516 - root_mean_squared_error: 102.3589\n",
      "Epoch 17/30\n",
      "170/170 [==============================] - 0s 2ms/step - loss: 10458.9756 - root_mean_squared_error: 102.2691\n",
      "Epoch 18/30\n",
      "170/170 [==============================] - 0s 2ms/step - loss: 10443.9766 - root_mean_squared_error: 102.1958\n",
      "Epoch 19/30\n",
      "170/170 [==============================] - 0s 2ms/step - loss: 10429.8438 - root_mean_squared_error: 102.1266\n",
      "Epoch 20/30\n",
      "170/170 [==============================] - 0s 2ms/step - loss: 10417.4121 - root_mean_squared_error: 102.0657\n",
      "Epoch 21/30\n",
      "170/170 [==============================] - 0s 2ms/step - loss: 10405.9941 - root_mean_squared_error: 102.0098\n",
      "Epoch 22/30\n",
      "170/170 [==============================] - 0s 2ms/step - loss: 10395.6104 - root_mean_squared_error: 101.9589\n",
      "Epoch 23/30\n",
      "170/170 [==============================] - 0s 2ms/step - loss: 10385.1992 - root_mean_squared_error: 101.9078\n",
      "Epoch 24/30\n",
      "170/170 [==============================] - 0s 2ms/step - loss: 10376.3506 - root_mean_squared_error: 101.8644\n",
      "Epoch 25/30\n",
      "170/170 [==============================] - 0s 2ms/step - loss: 10367.2725 - root_mean_squared_error: 101.8198\n",
      "Epoch 26/30\n",
      "170/170 [==============================] - 0s 2ms/step - loss: 10358.3311 - root_mean_squared_error: 101.7759\n",
      "Epoch 27/30\n",
      "170/170 [==============================] - 0s 2ms/step - loss: 10349.7012 - root_mean_squared_error: 101.7335\n",
      "Epoch 28/30\n",
      "170/170 [==============================] - 0s 2ms/step - loss: 10341.3594 - root_mean_squared_error: 101.6925\n",
      "Epoch 29/30\n",
      "170/170 [==============================] - 0s 2ms/step - loss: 10333.4033 - root_mean_squared_error: 101.6534\n",
      "Epoch 30/30\n",
      "170/170 [==============================] - 0s 2ms/step - loss: 10325.7168 - root_mean_squared_error: 101.6155\n"
     ]
    },
    {
     "data": {
      "image/png": "[encoded data removed]",
      "text/plain": [
       "<Figure size 432x288 with 1 Axes>"
      ]
     },
     "metadata": {
      "needs_background": "light"
     },
     "output_type": "display_data"
    },
    {
     "name": "stdout",
     "output_type": "stream",
     "text": [
      "\n",
      ": Evaluate the new model against the test set:\n",
      "WARNING:tensorflow:Layers in a Sequential model should only have a single input tensor, but we receive a <class 'dict'> input: {'longitude': <tf.Tensor 'ExpandDims_3:0' shape=(100, 1) dtype=float32>, 'latitude': <tf.Tensor 'ExpandDims_2:0' shape=(100, 1) dtype=float32>, 'housing_median_age': <tf.Tensor 'ExpandDims_1:0' shape=(100, 1) dtype=float32>, 'total_rooms': <tf.Tensor 'ExpandDims_7:0' shape=(100, 1) dtype=float32>, 'total_bedrooms': <tf.Tensor 'ExpandDims_6:0' shape=(100, 1) dtype=float32>, 'population': <tf.Tensor 'ExpandDims_5:0' shape=(100, 1) dtype=float32>, 'households': <tf.Tensor 'ExpandDims:0' shape=(100, 1) dtype=float32>, 'median_income': <tf.Tensor 'ExpandDims_4:0' shape=(100, 1) dtype=float32>}\n",
      "Consider rewriting this model with the Functional API.\n",
      "30/30 [==============================] - 0s 2ms/step - loss: 10181.5303 - root_mean_squared_error: 100.9036\n"
     ]
    }
   ],
   "source": [
    "learning_rate = 0.05\n",
    "epochs = 30\n",
    "batch_size = 100\n",
    "label_name = \"median_house_value\"\n",
    "\n",
    "my_model = None\n",
    "my_model = build_model(learning_rate, buckets_feature_layer) # añades el feature layer que has creado con latitude y longitude\n",
    "                                                             # trata al latutude y longitude como columnas de buckets pero independientes\n",
    "epochs, rmse = train_model(my_model, train_df, epochs, batch_size, label_name)\n",
    "\n",
    "plot_the_loss_curve(epochs, rmse)\n",
    "\n",
    "\n",
    "print(\"\\n: Evaluate the new model against the test set:\")\n",
    "\n",
    "test_model(my_model, test_df, batch_size)"
   ]
  },
  {
   "cell_type": "markdown",
   "id": "5f2e1f41",
   "metadata": {},
   "source": [
    "Como se puede ver cuando hemos trabajado con buckets obtenemos un resultado mucho mucho mejor. Aun así, podemos mejorarlo: Vamos a representar la localizacion como un feature cross. De esta forma debemos obtener un mejor resultado.\n",
    "\n",
    "Antes hemos representado la latitud en one-dimension buckets y la longitud en one-dimension buckets. Asique ahora vamos a crear one feature cross, crossing los 10 buckets de uno con los de otro. Creating then a grid of 100 cells. The model will learn a weight por each of the cells"
   ]
  },
  {
   "cell_type": "code",
   "execution_count": 28,
   "id": "560d682f",
   "metadata": {},
   "outputs": [],
   "source": [
    "#seguir con la parte de codigo del task3\n",
    "# asi a simple vista se puede ver que se crean las columnas como antes para obetener los 10 bukets de cada uno y luego  se \n",
    "#ccrea otra columna donde cross los dos y esa es la que se le mete a la lista de feature_columns"
   ]
  },
  {
   "cell_type": "code",
   "execution_count": 40,
   "id": "adffdc45",
   "metadata": {},
   "outputs": [
    {
     "name": "stdout",
     "output_type": "stream",
     "text": [
      "ok\n"
     ]
    }
   ],
   "source": [
    "resolution_in_degrees = 0.5\n",
    "bucket_cross_feature_column = []\n",
    "\n",
    "latitude_as_numeric = tf.feature_column.numeric_column(\"latitude\")\n",
    "latitude_boundaries = list(np.arange(int(min(train_df['latitude'])),\n",
    "                                    int(max(train_df['latitude'])),\n",
    "                                    resolution_in_degrees))\n",
    "latitude_buckets = tf.feature_column.bucketized_column(latitude_as_numeric, latitude_boundaries)\n",
    "\n",
    "\n",
    "longitude_as_numeric = tf.feature_column.numeric_column(\"longitude\")\n",
    "longitude_boundaries = list(np.arange(int(min(train_df['longitude'])),\n",
    "                                    int(max(train_df['longitude'])),\n",
    "                                    resolution_in_degrees))\n",
    "longitude_buckets = tf.feature_column.bucketized_column(longitude_as_numeric, longitude_boundaries)\n",
    "\n",
    "\n",
    "#una vez creados las columnas de buckets de latitud y longitud se hace la columna de feature cross que une a ambas\n",
    "\n",
    "latitude_x_longitude = tf.feature_column.crossed_column([latitude_buckets, longitude_buckets], hash_bucket_size=100)\n",
    "crossed_feature = tf.feature_column.indicator_column(latitude_x_longitude)\n",
    "bucket_cross_feature_column.append(crossed_feature)\n",
    "\n",
    "feature_crossed_layer = layers.DenseFeatures(bucket_cross_feature_column)\n",
    "print(\"ok\")"
   ]
  },
  {
   "cell_type": "code",
   "execution_count": 41,
   "id": "6dfaa99a",
   "metadata": {},
   "outputs": [
    {
     "name": "stdout",
     "output_type": "stream",
     "text": [
      "Epoch 1/30\n",
      "WARNING:tensorflow:Layers in a Sequential model should only have a single input tensor, but we receive a <class 'dict'> input: {'longitude': <tf.Tensor 'ExpandDims_3:0' shape=(100, 1) dtype=float32>, 'latitude': <tf.Tensor 'ExpandDims_2:0' shape=(100, 1) dtype=float32>, 'housing_median_age': <tf.Tensor 'ExpandDims_1:0' shape=(100, 1) dtype=float32>, 'total_rooms': <tf.Tensor 'ExpandDims_7:0' shape=(100, 1) dtype=float32>, 'total_bedrooms': <tf.Tensor 'ExpandDims_6:0' shape=(100, 1) dtype=float32>, 'population': <tf.Tensor 'ExpandDims_5:0' shape=(100, 1) dtype=float32>, 'households': <tf.Tensor 'ExpandDims:0' shape=(100, 1) dtype=float32>, 'median_income': <tf.Tensor 'ExpandDims_4:0' shape=(100, 1) dtype=float32>}\n",
      "Consider rewriting this model with the Functional API.\n"
     ]
    },
    {
     "name": "stderr",
     "output_type": "stream",
     "text": [
      "C:\\Users\\Candel\\anaconda3\\lib\\site-packages\\tensorflow\\python\\keras\\optimizer_v2\\optimizer_v2.py:374: UserWarning: The `lr` argument is deprecated, use `learning_rate` instead.\n",
      "  warnings.warn(\n"
     ]
    },
    {
     "name": "stdout",
     "output_type": "stream",
     "text": [
      "WARNING:tensorflow:Layers in a Sequential model should only have a single input tensor, but we receive a <class 'dict'> input: {'longitude': <tf.Tensor 'ExpandDims_3:0' shape=(100, 1) dtype=float32>, 'latitude': <tf.Tensor 'ExpandDims_2:0' shape=(100, 1) dtype=float32>, 'housing_median_age': <tf.Tensor 'ExpandDims_1:0' shape=(100, 1) dtype=float32>, 'total_rooms': <tf.Tensor 'ExpandDims_7:0' shape=(100, 1) dtype=float32>, 'total_bedrooms': <tf.Tensor 'ExpandDims_6:0' shape=(100, 1) dtype=float32>, 'population': <tf.Tensor 'ExpandDims_5:0' shape=(100, 1) dtype=float32>, 'households': <tf.Tensor 'ExpandDims:0' shape=(100, 1) dtype=float32>, 'median_income': <tf.Tensor 'ExpandDims_4:0' shape=(100, 1) dtype=float32>}\n",
      "Consider rewriting this model with the Functional API.\n",
      "170/170 [==============================] - 1s 2ms/step - loss: 52957.1133 - root_mean_squared_error: 230.1241\n",
      "Epoch 2/30\n",
      "170/170 [==============================] - 0s 2ms/step - loss: 46942.7617 - root_mean_squared_error: 216.6628\n",
      "Epoch 3/30\n",
      "170/170 [==============================] - 0s 2ms/step - loss: 41441.2773 - root_mean_squared_error: 203.5713\n",
      "Epoch 4/30\n",
      "170/170 [==============================] - ETA: 0s - loss: 36605.7812 - root_mean_squared_error: 191.326 - 0s 2ms/step - loss: 36431.1602 - root_mean_squared_error: 190.8695\n",
      "Epoch 5/30\n",
      "170/170 [==============================] - 0s 2ms/step - loss: 31906.2129 - root_mean_squared_error: 178.6231\n",
      "Epoch 6/30\n",
      "170/170 [==============================] - 0s 2ms/step - loss: 27862.8223 - root_mean_squared_error: 166.9216\n",
      "Epoch 7/30\n",
      "170/170 [==============================] - 0s 2ms/step - loss: 24287.1270 - root_mean_squared_error: 155.8433\n",
      "Epoch 8/30\n",
      "170/170 [==============================] - 0s 2ms/step - loss: 21163.1992 - root_mean_squared_error: 145.4758\n",
      "Epoch 9/30\n",
      "170/170 [==============================] - 0s 2ms/step - loss: 18500.2793 - root_mean_squared_error: 136.0157\n",
      "Epoch 10/30\n",
      "170/170 [==============================] - 0s 2ms/step - loss: 16246.4229 - root_mean_squared_error: 127.4615\n",
      "Epoch 11/30\n",
      "170/170 [==============================] - 0s 2ms/step - loss: 14382.9180 - root_mean_squared_error: 119.9288\n",
      "Epoch 12/30\n",
      "170/170 [==============================] - 0s 2ms/step - loss: 12893.2656 - root_mean_squared_error: 113.5485\n",
      "Epoch 13/30\n",
      "170/170 [==============================] - 0s 2ms/step - loss: 11750.3799 - root_mean_squared_error: 108.3992\n",
      "Epoch 14/30\n",
      "170/170 [==============================] - 0s 2ms/step - loss: 10932.4697 - root_mean_squared_error: 104.5584\n",
      "Epoch 15/30\n",
      "170/170 [==============================] - 0s 2ms/step - loss: 10372.2393 - root_mean_squared_error: 101.8442\n",
      "Epoch 16/30\n",
      "170/170 [==============================] - 0s 2ms/step - loss: 10024.5938 - root_mean_squared_error: 100.1229\n",
      "Epoch 17/30\n",
      "170/170 [==============================] - 0s 2ms/step - loss: 9809.2344 - root_mean_squared_error: 99.0416\n",
      "Epoch 18/30\n",
      "170/170 [==============================] - 0s 2ms/step - loss: 9645.7139 - root_mean_squared_error: 98.2126A: 0s - loss: 9684.4570 - root_mean_squared_error: 98.4\n",
      "Epoch 19/30\n",
      "170/170 [==============================] - 0s 2ms/step - loss: 9515.6328 - root_mean_squared_error: 97.5481\n",
      "Epoch 20/30\n",
      "170/170 [==============================] - 0s 2ms/step - loss: 9406.2441 - root_mean_squared_error: 96.9858\n",
      "Epoch 21/30\n",
      "170/170 [==============================] - 0s 2ms/step - loss: 9313.7197 - root_mean_squared_error: 96.5076\n",
      "Epoch 22/30\n",
      "170/170 [==============================] - 0s 2ms/step - loss: 9234.9824 - root_mean_squared_error: 96.0988\n",
      "Epoch 23/30\n",
      "170/170 [==============================] - 0s 2ms/step - loss: 9168.4766 - root_mean_squared_error: 95.7522\n",
      "Epoch 24/30\n",
      "170/170 [==============================] - 0s 2ms/step - loss: 9112.1592 - root_mean_squared_error: 95.4576\n",
      "Epoch 25/30\n",
      "170/170 [==============================] - 0s 2ms/step - loss: 9062.2842 - root_mean_squared_error: 95.1960\n",
      "Epoch 26/30\n",
      "170/170 [==============================] - 0s 2ms/step - loss: 9018.4932 - root_mean_squared_error: 94.9657\n",
      "Epoch 27/30\n",
      "170/170 [==============================] - 0s 2ms/step - loss: 8980.2432 - root_mean_squared_error: 94.7641\n",
      "Epoch 28/30\n",
      "170/170 [==============================] - 0s 2ms/step - loss: 8947.3594 - root_mean_squared_error: 94.5905\n",
      "Epoch 29/30\n",
      "170/170 [==============================] - 0s 2ms/step - loss: 8917.8682 - root_mean_squared_error: 94.4345\n",
      "Epoch 30/30\n",
      "170/170 [==============================] - 0s 2ms/step - loss: 8892.3018 - root_mean_squared_error: 94.2990\n"
     ]
    },
    {
     "data": {
      "image/png": "[encoded data removed]",
      "text/plain": [
       "<Figure size 432x288 with 1 Axes>"
      ]
     },
     "metadata": {
      "needs_background": "light"
     },
     "output_type": "display_data"
    },
    {
     "name": "stdout",
     "output_type": "stream",
     "text": [
      "\n",
      ": Evaluate the new model against the test set:\n",
      "WARNING:tensorflow:Layers in a Sequential model should only have a single input tensor, but we receive a <class 'dict'> input: {'longitude': <tf.Tensor 'ExpandDims_3:0' shape=(100, 1) dtype=float32>, 'latitude': <tf.Tensor 'ExpandDims_2:0' shape=(100, 1) dtype=float32>, 'housing_median_age': <tf.Tensor 'ExpandDims_1:0' shape=(100, 1) dtype=float32>, 'total_rooms': <tf.Tensor 'ExpandDims_7:0' shape=(100, 1) dtype=float32>, 'total_bedrooms': <tf.Tensor 'ExpandDims_6:0' shape=(100, 1) dtype=float32>, 'population': <tf.Tensor 'ExpandDims_5:0' shape=(100, 1) dtype=float32>, 'households': <tf.Tensor 'ExpandDims:0' shape=(100, 1) dtype=float32>, 'median_income': <tf.Tensor 'ExpandDims_4:0' shape=(100, 1) dtype=float32>}\n",
      "Consider rewriting this model with the Functional API.\n",
      "30/30 [==============================] - 0s 2ms/step - loss: 8987.5029 - root_mean_squared_error: 94.8024\n"
     ]
    }
   ],
   "source": [
    "learning_rate = 0.05\n",
    "epochs = 30\n",
    "batch_size = 100\n",
    "label_name = \"median_house_value\"\n",
    "\n",
    "my_model = None\n",
    "my_model = build_model(learning_rate, feature_crossed_layer) # añades el feature layer que has creado con latitude y longitude\n",
    "                                                        # para q pueda crear el label que crea el cross feature y trate los datos\n",
    "\n",
    "epochs, rmse = train_model(my_model, train_df, epochs, batch_size, label_name)\n",
    "\n",
    "plot_the_loss_curve(epochs, rmse)\n",
    "\n",
    "\n",
    "print(\"\\n: Evaluate the new model against the test set:\")\n",
    "\n",
    "test_model(my_model, test_df, batch_size)"
   ]
  },
  {
   "cell_type": "markdown",
   "id": "10f99d25",
   "metadata": {},
   "source": [
    "Como podemos ver el error es menor que antes cuando se trataban como buckets indepedientes.\n",
    "\n",
    "Y cuanto menor es el resolution_in_degrees, mas precision tiene ya que abarca menos km cuadrados y ajusta mas las areas (teniendo en cuenta que resolution_in_degrees = 1.0 son sobre 100km cuadrados). tampoco sera bueno hacerlo demasiado pequeño porque volvemos a lo que teniamos al principio que por unos pocos km no cambia nada, un punto medio."
   ]
  },
  {
   "cell_type": "code",
   "execution_count": null,
   "id": "c0e9c0e6",
   "metadata": {},
   "outputs": [],
   "source": []
  }
 ],
 "metadata": {
  "kernelspec": {
   "display_name": "Python 3",
   "language": "python",
   "name": "python3"
  },
  "language_info": {
   "codemirror_mode": {
    "name": "ipython",
    "version": 3
   },
   "file_extension": ".py",
   "mimetype": "text/x-python",
   "name": "python",
   "nbconvert_exporter": "python",
   "pygments_lexer": "ipython3",
   "version": "3.8.8"
  }
 },
 "nbformat": 4,
 "nbformat_minor": 5
}
