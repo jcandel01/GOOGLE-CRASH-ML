{
 "cells": [
  {
   "cell_type": "markdown",
   "id": "0461de41",
   "metadata": {},
   "source": [
    "# Introduction to Neural Nets"
   ]
  },
  {
   "cell_type": "markdown",
   "id": "d9def75a",
   "metadata": {},
   "source": [
    "### Learning Objectives:"
   ]
  },
  {
   "cell_type": "markdown",
   "id": "d1893852",
   "metadata": {},
   "source": [
    "After doing this Colab, you'll know how to do the following:\n",
    "\n",
    "- Create a simple deep neural network.\n",
    "- Tune the hyperparameters for a simple deep neural network.\n",
    "\n",
    "Vamos a seguir usando el California Housing dataset"
   ]
  },
  {
   "cell_type": "code",
   "execution_count": 25,
   "id": "9f54b76f",
   "metadata": {},
   "outputs": [],
   "source": [
    "#@title Run on TensorFlow 2.x\n",
    "\n",
    "from __future__ import absolute_import, division, print_function, unicode_literals"
   ]
  },
  {
   "cell_type": "code",
   "execution_count": 14,
   "id": "a09d9264",
   "metadata": {},
   "outputs": [
    {
     "name": "stdout",
     "output_type": "stream",
     "text": [
      "imported modules\n"
     ]
    }
   ],
   "source": [
    "import tensorflow as tf\n",
    "from tensorflow.keras import layers\n",
    "import pandas as pd\n",
    "import numpy as np\n",
    "from matplotlib import pyplot as plt\n",
    "import seaborn as sns\n",
    "\n",
    "pd.options.display.max_rows = 10\n",
    "pd.options.display.float_format=\"{:.1f}\".format\n",
    "\n",
    "print(\"imported modules\")"
   ]
  },
  {
   "cell_type": "code",
   "execution_count": 15,
   "id": "b12a393f",
   "metadata": {},
   "outputs": [
    {
     "name": "stdout",
     "output_type": "stream",
     "text": [
      "datasets cargados\n"
     ]
    }
   ],
   "source": [
    "train_df = pd.read_csv(\"https://download.mlcc.google.com/mledu-datasets/california_housing_train.csv\")\n",
    "test_df = pd.read_csv(\"https://download.mlcc.google.com/mledu-datasets/california_housing_test.csv\")\n",
    "\n",
    "train_df = train_df.reindex(np.random.permutation(train_df.index))\n",
    "\n",
    "print(\"datasets cargados\")"
   ]
  },
  {
   "cell_type": "markdown",
   "id": "5615732c",
   "metadata": {},
   "source": [
    "Ahora tenemos que normalizar los valores para que sea mejor y mas facil tratarlos. Especialmente en grandes datasets"
   ]
  },
  {
   "cell_type": "code",
   "execution_count": 16,
   "id": "bf49e03c",
   "metadata": {},
   "outputs": [
    {
     "name": "stdout",
     "output_type": "stream",
     "text": [
      "Valores normalizados\n"
     ]
    }
   ],
   "source": [
    "# Calculate the Z-scores of each column in the training set:\n",
    "train_df_mean = train_df.mean()\n",
    "train_df_std = train_df.std()\n",
    "train_df_norm = (train_df - train_df_mean)/train_df_std\n",
    "\n",
    "# Y ahora lo mismo con los del test data set\n",
    "test_df_mean = test_df.mean()\n",
    "test_df_std = test_df.std()\n",
    "test_df_norm = (test_df - test_df_mean)/test_df_std\n",
    "\n",
    "print(\"Valores normalizados\")\n"
   ]
  },
  {
   "cell_type": "markdown",
   "id": "2480f03f",
   "metadata": {},
   "source": [
    "#### Represent Data"
   ]
  },
  {
   "cell_type": "markdown",
   "id": "649f19bb",
   "metadata": {},
   "source": [
    "Ahora vamos a crear un feature layer que contenga las tres features que queremos que tenga en cuenta el modelo: latitudeXlongitude(feature cross), median_income y population"
   ]
  },
  {
   "cell_type": "code",
   "execution_count": 17,
   "id": "9c8ffad6",
   "metadata": {},
   "outputs": [
    {
     "name": "stdout",
     "output_type": "stream",
     "text": [
      "layer creado con exito\n"
     ]
    }
   ],
   "source": [
    "feature_columns = []\n",
    "resolution = 0.3\n",
    "\n",
    "# Primero creamos ambas features como feature bucketizeds con train_df_norm ¡! porque es mas facil tratar los datos así.\n",
    "latitude_as_numeric = tf.feature_column.numeric_column(\"latitude\")\n",
    "latitude_boundaries = list(np.arange(int(min(train_df_norm['latitude'])),\n",
    "                                    int(max(train_df_norm['latitude'])),\n",
    "                                    resolution))\n",
    "latitude = tf.feature_column.bucketized_column(latitude_as_numeric, latitude_boundaries)\n",
    "\n",
    "\n",
    "longitude_as_numeric = tf.feature_column.numeric_column(\"longitude\")\n",
    "longitude_boundaries = list(np.arange(int(min(train_df_norm['longitude'])),\n",
    "                                    int(max(train_df_norm['longitude'])),\n",
    "                                    resolution))\n",
    "longitude = tf.feature_column.bucketized_column(longitude_as_numeric, longitude_boundaries)\n",
    "\n",
    "# Ahora vamos a crear la feature cross entre ambas. Cuidado no poner solo latitude_x_longitude hay que crear lo de specificator\n",
    "latitude_x_longitude = tf.feature_column.crossed_column([latitude, longitude], hash_bucket_size=100)\n",
    "crossed_feature = tf.feature_column.indicator_column(latitude_x_longitude)\n",
    "\n",
    "# Y añadimos esta a feature_columns porque es la que queremos utilizar, el cruce de ambas, ya que es mas relevante.\n",
    "feature_columns.append(crossed_feature)\n",
    "\n",
    "# Ahora añadimos el median_income como float value y population\n",
    "\n",
    "median_income = tf.feature_column.numeric_column(\"median_income\")\n",
    "feature_columns.append(median_income)\n",
    "\n",
    "population = tf.feature_column.numeric_column(\"population\")\n",
    "feature_columns.append(population)\n",
    "\n",
    "# Ahora creamos el layer por el que pasaran los datos\n",
    "my_feature_layer = tf.keras.layers.DenseFeatures(feature_columns)\n",
    "\n",
    "print(\"layer creado con exito\")"
   ]
  },
  {
   "cell_type": "markdown",
   "id": "8dbf61e5",
   "metadata": {},
   "source": [
    "### Build A Linear Regresssion Model Como base"
   ]
  },
  {
   "cell_type": "code",
   "execution_count": 18,
   "id": "cf9c1349",
   "metadata": {},
   "outputs": [
    {
     "name": "stdout",
     "output_type": "stream",
     "text": [
      "todas las fucniones definidas con exito\n"
     ]
    }
   ],
   "source": [
    "def build_model(my_learning_rate, feature_layer):\n",
    "    \n",
    "    model = tf.keras.models.Sequential()\n",
    "    \n",
    "    model.add(feature_layer)\n",
    "    model.add(tf.keras.layers.Dense(units=1, input_shape=(1,)))\n",
    "    \n",
    "    model.compile(optimizer = tf.keras.optimizers.RMSprop(lr=my_learning_rate),\n",
    "                 loss=\"mean_squared_error\",\n",
    "                 metrics=[tf.keras.metrics.MeanSquaredError()])\n",
    "    \n",
    "    return model\n",
    "\n",
    "def train_model (model, df, epochs, batch_size, label_name):\n",
    "    \n",
    "    features = {name:np.array(value) for name, value in df.items()}\n",
    "    label = np.array(features.pop(label_name))\n",
    "    \n",
    "    history = model.fit(x=features, y=label, batch_size=batch_size, epochs=epochs, shuffle=True)\n",
    "    \n",
    "    epochs = history.epoch\n",
    "    hist = pd.DataFrame(history.history)\n",
    "    rmse = hist[\"mean_squared_error\"]\n",
    "    \n",
    "    return epochs, rmse\n",
    "\n",
    "def test_model(model, df, batch_size, label_name):\n",
    "    \n",
    "    features = {name:np.array(value) for name, value in df.items()}\n",
    "    label = np.array(features.pop(label_name))\n",
    "    \n",
    "    print(\"\\n Evaluate the linear regression model against the test set:\")\n",
    "    \n",
    "    model.evaluate(x = features, y = label, batch_size = batch_size)\n",
    "    \n",
    "\n",
    "def plot_the_loss_curve(epochs, rmse):\n",
    "    \n",
    "    plt.figure()\n",
    "    plt.xlabel(\"Epochs\")\n",
    "    plt.ylabel(\"Mean Squared Error\")\n",
    "    \n",
    "    plt.plot(epochs, rmse, label=\"Loss\")\n",
    "    plt.legend()\n",
    "    plt.ylim([mse.min()*0.95, mse.max()*1.03])\n",
    "    plt.show()\n",
    "    \n",
    "print(\"todas las fucniones definidas con exito\")"
   ]
  },
  {
   "cell_type": "markdown",
   "id": "d2c43bad",
   "metadata": {},
   "source": [
    "Ahora vamos a llamar hacer una prueba incial"
   ]
  },
  {
   "cell_type": "code",
   "execution_count": 19,
   "id": "24e829cb",
   "metadata": {},
   "outputs": [
    {
     "name": "stderr",
     "output_type": "stream",
     "text": [
      "C:\\Users\\Candel\\anaconda3\\lib\\site-packages\\tensorflow\\python\\keras\\optimizer_v2\\optimizer_v2.py:374: UserWarning: The `lr` argument is deprecated, use `learning_rate` instead.\n",
      "  warnings.warn(\n"
     ]
    },
    {
     "name": "stdout",
     "output_type": "stream",
     "text": [
      "Epoch 1/15\n",
      "WARNING:tensorflow:Layers in a Sequential model should only have a single input tensor, but we receive a <class 'dict'> input: {'longitude': <tf.Tensor 'ExpandDims_3:0' shape=(1000, 1) dtype=float32>, 'latitude': <tf.Tensor 'ExpandDims_2:0' shape=(1000, 1) dtype=float32>, 'housing_median_age': <tf.Tensor 'ExpandDims_1:0' shape=(1000, 1) dtype=float32>, 'total_rooms': <tf.Tensor 'ExpandDims_7:0' shape=(1000, 1) dtype=float32>, 'total_bedrooms': <tf.Tensor 'ExpandDims_6:0' shape=(1000, 1) dtype=float32>, 'population': <tf.Tensor 'ExpandDims_5:0' shape=(1000, 1) dtype=float32>, 'households': <tf.Tensor 'ExpandDims:0' shape=(1000, 1) dtype=float32>, 'median_income': <tf.Tensor 'ExpandDims_4:0' shape=(1000, 1) dtype=float32>}\n",
      "Consider rewriting this model with the Functional API.\n",
      "WARNING:tensorflow:Layers in a Sequential model should only have a single input tensor, but we receive a <class 'dict'> input: {'longitude': <tf.Tensor 'ExpandDims_3:0' shape=(1000, 1) dtype=float32>, 'latitude': <tf.Tensor 'ExpandDims_2:0' shape=(1000, 1) dtype=float32>, 'housing_median_age': <tf.Tensor 'ExpandDims_1:0' shape=(1000, 1) dtype=float32>, 'total_rooms': <tf.Tensor 'ExpandDims_7:0' shape=(1000, 1) dtype=float32>, 'total_bedrooms': <tf.Tensor 'ExpandDims_6:0' shape=(1000, 1) dtype=float32>, 'population': <tf.Tensor 'ExpandDims_5:0' shape=(1000, 1) dtype=float32>, 'households': <tf.Tensor 'ExpandDims:0' shape=(1000, 1) dtype=float32>, 'median_income': <tf.Tensor 'ExpandDims_4:0' shape=(1000, 1) dtype=float32>}\n",
      "Consider rewriting this model with the Functional API.\n",
      "17/17 [==============================] - 1s 4ms/step - loss: 0.5788 - mean_squared_error: 0.5788\n",
      "Epoch 2/15\n",
      "17/17 [==============================] - 0s 3ms/step - loss: 0.4444 - mean_squared_error: 0.4444\n",
      "Epoch 3/15\n",
      "17/17 [==============================] - 0s 3ms/step - loss: 0.3998 - mean_squared_error: 0.3998\n",
      "Epoch 4/15\n",
      "17/17 [==============================] - 0s 4ms/step - loss: 0.3818 - mean_squared_error: 0.3818\n",
      "Epoch 5/15\n",
      "17/17 [==============================] - 0s 3ms/step - loss: 0.3720 - mean_squared_error: 0.3720\n",
      "Epoch 6/15\n",
      "17/17 [==============================] - 0s 3ms/step - loss: 0.3657 - mean_squared_error: 0.3657\n",
      "Epoch 7/15\n",
      "17/17 [==============================] - 0s 3ms/step - loss: 0.3623 - mean_squared_error: 0.3623\n",
      "Epoch 8/15\n",
      "17/17 [==============================] - 0s 3ms/step - loss: 0.3607 - mean_squared_error: 0.3607\n",
      "Epoch 9/15\n",
      "17/17 [==============================] - 0s 4ms/step - loss: 0.3601 - mean_squared_error: 0.3601\n",
      "Epoch 10/15\n",
      "17/17 [==============================] - 0s 4ms/step - loss: 0.3599 - mean_squared_error: 0.3599\n",
      "Epoch 11/15\n",
      "17/17 [==============================] - 0s 4ms/step - loss: 0.3600 - mean_squared_error: 0.3600\n",
      "Epoch 12/15\n",
      "17/17 [==============================] - 0s 3ms/step - loss: 0.3599 - mean_squared_error: 0.3599\n",
      "Epoch 13/15\n",
      "17/17 [==============================] - 0s 4ms/step - loss: 0.3598 - mean_squared_error: 0.3598\n",
      "Epoch 14/15\n",
      "17/17 [==============================] - 0s 3ms/step - loss: 0.3599 - mean_squared_error: 0.3599\n",
      "Epoch 15/15\n",
      "17/17 [==============================] - 0s 3ms/step - loss: 0.3597 - mean_squared_error: 0.3597\n"
     ]
    },
    {
     "data": {
      "image/png": "[encoded data removed]",
      "text/plain": [
       "<Figure size 432x288 with 1 Axes>"
      ]
     },
     "metadata": {
      "needs_background": "light"
     },
     "output_type": "display_data"
    },
    {
     "name": "stdout",
     "output_type": "stream",
     "text": [
      "\n",
      " Evaluate the linear regression model against the test set:\n",
      "WARNING:tensorflow:Layers in a Sequential model should only have a single input tensor, but we receive a <class 'dict'> input: {'longitude': <tf.Tensor 'ExpandDims_3:0' shape=(1000, 1) dtype=float32>, 'latitude': <tf.Tensor 'ExpandDims_2:0' shape=(1000, 1) dtype=float32>, 'housing_median_age': <tf.Tensor 'ExpandDims_1:0' shape=(1000, 1) dtype=float32>, 'total_rooms': <tf.Tensor 'ExpandDims_7:0' shape=(1000, 1) dtype=float32>, 'total_bedrooms': <tf.Tensor 'ExpandDims_6:0' shape=(1000, 1) dtype=float32>, 'population': <tf.Tensor 'ExpandDims_5:0' shape=(1000, 1) dtype=float32>, 'households': <tf.Tensor 'ExpandDims:0' shape=(1000, 1) dtype=float32>, 'median_income': <tf.Tensor 'ExpandDims_4:0' shape=(1000, 1) dtype=float32>}\n",
      "Consider rewriting this model with the Functional API.\n",
      "3/3 [==============================] - 0s 4ms/step - loss: 0.3954 - mean_squared_error: 0.3954\n"
     ]
    }
   ],
   "source": [
    "# The following variables are the hyperparameters.\n",
    "learning_rate = 0.01\n",
    "epochs = 15\n",
    "batch_size = 1000\n",
    "label_name = \"median_house_value\"\n",
    "\n",
    "# Establish the model's topography.\n",
    "my_model = build_model(learning_rate, my_feature_layer)\n",
    "\n",
    "# Train the model on the normalized training set.\n",
    "epochs, mse = train_model(my_model, train_df_norm, epochs, batch_size, label_name)\n",
    "plot_the_loss_curve(epochs, mse)\n",
    "\n",
    "test_model(my_model, test_df_norm, batch_size, label_name)"
   ]
  },
  {
   "cell_type": "markdown",
   "id": "14f82c66",
   "metadata": {},
   "source": [
    "## Define A Deep Neural Net Model"
   ]
  },
  {
   "cell_type": "markdown",
   "id": "74d98da3",
   "metadata": {},
   "source": [
    "ahora vamos a crear una funcion que cree un modelo con neural network, especificando: el numero de layers y el numero de nodos en cada layer. Además, define la activation function para cada uno"
   ]
  },
  {
   "cell_type": "code",
   "execution_count": 62,
   "id": "f5ecd341",
   "metadata": {},
   "outputs": [],
   "source": [
    "# Es muy parecida a Build_model pero vamos a meter un layer que convierte el linear model a neural net model\n",
    "def create_model(my_learning_rate, feature_layer):\n",
    "    \n",
    "    model = tf.keras.models.Sequential()\n",
    "    \n",
    "    model.add(feature_layer)\n",
    "    \n",
    "    # Define the first hidden layer with 20 nodes.\n",
    "    model.add(tf.keras.layers.Dense(units=10,\n",
    "                                  activation='relu',\n",
    "                                  name='Hidden1'))\n",
    "    \n",
    "    \n",
    "    \n",
    "    # Define the second hidden layer with 12 nodes.  \n",
    "    model.add(tf.keras.layers.Dense(units=6,\n",
    "                            activation='relu',\n",
    "                            name='Hidden2'))\n",
    "    \n",
    "    # Define the output layer.\n",
    "    model.add(tf.keras.layers.Dense(units=1,\n",
    "                                   name='Output'))\n",
    "    \n",
    "    model.compile(optimizer= tf.keras.optimizers.Adam(lr=my_learning_rate),\n",
    "                 loss=\"mean_squared_error\",\n",
    "                 metrics=[tf.keras.metrics.MeanSquaredError()])\n",
    "    \n",
    "    return model"
   ]
  },
  {
   "cell_type": "markdown",
   "id": "a6dcb674",
   "metadata": {},
   "source": [
    "Ahora, la funcion para entrenar el modelo es la misma, no cambia, donde:\n",
    "\n",
    " - The keys are the names of each feature (for example, longitude, latitude, and so on).\n",
    " - The value of each key is a NumPy array containing the values of that feature.\n",
    " \n",
    "Haciendolo asi le pasas todas las features para que entrene el modelo, pero gracias al feature layer que hemos creado filtra y solo coge los que le hemos dicho ( en este caso: latitudeXlongitude, median_income y population)"
   ]
  },
  {
   "cell_type": "markdown",
   "id": "99e5d768",
   "metadata": {},
   "source": [
    "Vamos a llamar a los metodos y a hacer pruebas"
   ]
  },
  {
   "cell_type": "code",
   "execution_count": 63,
   "id": "f5191a17",
   "metadata": {},
   "outputs": [
    {
     "name": "stdout",
     "output_type": "stream",
     "text": [
      "Epoch 1/30\n",
      "WARNING:tensorflow:Layers in a Sequential model should only have a single input tensor, but we receive a <class 'dict'> input: {'longitude': <tf.Tensor 'ExpandDims_3:0' shape=(1000, 1) dtype=float32>, 'latitude': <tf.Tensor 'ExpandDims_2:0' shape=(1000, 1) dtype=float32>, 'housing_median_age': <tf.Tensor 'ExpandDims_1:0' shape=(1000, 1) dtype=float32>, 'total_rooms': <tf.Tensor 'ExpandDims_7:0' shape=(1000, 1) dtype=float32>, 'total_bedrooms': <tf.Tensor 'ExpandDims_6:0' shape=(1000, 1) dtype=float32>, 'population': <tf.Tensor 'ExpandDims_5:0' shape=(1000, 1) dtype=float32>, 'households': <tf.Tensor 'ExpandDims:0' shape=(1000, 1) dtype=float32>, 'median_income': <tf.Tensor 'ExpandDims_4:0' shape=(1000, 1) dtype=float32>}\n",
      "Consider rewriting this model with the Functional API.\n"
     ]
    },
    {
     "name": "stderr",
     "output_type": "stream",
     "text": [
      "C:\\Users\\Candel\\anaconda3\\lib\\site-packages\\tensorflow\\python\\keras\\optimizer_v2\\optimizer_v2.py:374: UserWarning: The `lr` argument is deprecated, use `learning_rate` instead.\n",
      "  warnings.warn(\n"
     ]
    },
    {
     "name": "stdout",
     "output_type": "stream",
     "text": [
      "WARNING:tensorflow:Layers in a Sequential model should only have a single input tensor, but we receive a <class 'dict'> input: {'longitude': <tf.Tensor 'ExpandDims_3:0' shape=(1000, 1) dtype=float32>, 'latitude': <tf.Tensor 'ExpandDims_2:0' shape=(1000, 1) dtype=float32>, 'housing_median_age': <tf.Tensor 'ExpandDims_1:0' shape=(1000, 1) dtype=float32>, 'total_rooms': <tf.Tensor 'ExpandDims_7:0' shape=(1000, 1) dtype=float32>, 'total_bedrooms': <tf.Tensor 'ExpandDims_6:0' shape=(1000, 1) dtype=float32>, 'population': <tf.Tensor 'ExpandDims_5:0' shape=(1000, 1) dtype=float32>, 'households': <tf.Tensor 'ExpandDims:0' shape=(1000, 1) dtype=float32>, 'median_income': <tf.Tensor 'ExpandDims_4:0' shape=(1000, 1) dtype=float32>}\n",
      "Consider rewriting this model with the Functional API.\n",
      "17/17 [==============================] - 1s 3ms/step - loss: 0.7269 - mean_squared_error: 0.7269\n",
      "Epoch 2/30\n",
      "17/17 [==============================] - 0s 3ms/step - loss: 0.4805 - mean_squared_error: 0.4805\n",
      "Epoch 3/30\n",
      "17/17 [==============================] - 0s 3ms/step - loss: 0.4196 - mean_squared_error: 0.4196\n",
      "Epoch 4/30\n",
      "17/17 [==============================] - 0s 3ms/step - loss: 0.4032 - mean_squared_error: 0.4032\n",
      "Epoch 5/30\n",
      "17/17 [==============================] - 0s 3ms/step - loss: 0.3924 - mean_squared_error: 0.3924\n",
      "Epoch 6/30\n",
      "17/17 [==============================] - 0s 3ms/step - loss: 0.3879 - mean_squared_error: 0.3879\n",
      "Epoch 7/30\n",
      "17/17 [==============================] - 0s 3ms/step - loss: 0.3832 - mean_squared_error: 0.3832\n",
      "Epoch 8/30\n",
      "17/17 [==============================] - 0s 3ms/step - loss: 0.3815 - mean_squared_error: 0.3815\n",
      "Epoch 9/30\n",
      "17/17 [==============================] - 0s 3ms/step - loss: 0.3768 - mean_squared_error: 0.3768\n",
      "Epoch 10/30\n",
      "17/17 [==============================] - 0s 3ms/step - loss: 0.3736 - mean_squared_error: 0.3736\n",
      "Epoch 11/30\n",
      "17/17 [==============================] - 0s 3ms/step - loss: 0.3684 - mean_squared_error: 0.3684\n",
      "Epoch 12/30\n",
      "17/17 [==============================] - 0s 3ms/step - loss: 0.3684 - mean_squared_error: 0.3684\n",
      "Epoch 13/30\n",
      "17/17 [==============================] - 0s 3ms/step - loss: 0.3677 - mean_squared_error: 0.3677\n",
      "Epoch 14/30\n",
      "17/17 [==============================] - 0s 4ms/step - loss: 0.3588 - mean_squared_error: 0.3588\n",
      "Epoch 15/30\n",
      "17/17 [==============================] - 0s 3ms/step - loss: 0.3629 - mean_squared_error: 0.3629\n",
      "Epoch 16/30\n",
      "17/17 [==============================] - 0s 4ms/step - loss: 0.3612 - mean_squared_error: 0.3612\n",
      "Epoch 17/30\n",
      "17/17 [==============================] - 0s 4ms/step - loss: 0.3577 - mean_squared_error: 0.3577: 0s - loss: 0.3575 - mean_squared_error: 0.35\n",
      "Epoch 18/30\n",
      "17/17 [==============================] - 0s 4ms/step - loss: 0.3585 - mean_squared_error: 0.3585\n",
      "Epoch 19/30\n",
      "17/17 [==============================] - 0s 4ms/step - loss: 0.3570 - mean_squared_error: 0.3570\n",
      "Epoch 20/30\n",
      "17/17 [==============================] - 0s 4ms/step - loss: 0.3513 - mean_squared_error: 0.3513\n",
      "Epoch 21/30\n",
      "17/17 [==============================] - 0s 5ms/step - loss: 0.3566 - mean_squared_error: 0.3566\n",
      "Epoch 22/30\n",
      "17/17 [==============================] - 0s 5ms/step - loss: 0.3524 - mean_squared_error: 0.3524\n",
      "Epoch 23/30\n",
      "17/17 [==============================] - 0s 4ms/step - loss: 0.3537 - mean_squared_error: 0.3537\n",
      "Epoch 24/30\n",
      "17/17 [==============================] - 0s 5ms/step - loss: 0.3531 - mean_squared_error: 0.3531\n",
      "Epoch 25/30\n",
      "17/17 [==============================] - 0s 5ms/step - loss: 0.3516 - mean_squared_error: 0.3516\n",
      "Epoch 26/30\n",
      "17/17 [==============================] - 0s 5ms/step - loss: 0.3534 - mean_squared_error: 0.3534\n",
      "Epoch 27/30\n",
      "17/17 [==============================] - 0s 5ms/step - loss: 0.3518 - mean_squared_error: 0.3518\n",
      "Epoch 28/30\n",
      "17/17 [==============================] - 0s 5ms/step - loss: 0.3480 - mean_squared_error: 0.3480\n",
      "Epoch 29/30\n",
      "17/17 [==============================] - 0s 5ms/step - loss: 0.3478 - mean_squared_error: 0.3478\n",
      "Epoch 30/30\n",
      "17/17 [==============================] - 0s 4ms/step - loss: 0.3507 - mean_squared_error: 0.3507\n"
     ]
    },
    {
     "data": {
      "image/png": "[encoded data removed]",
      "text/plain": [
       "<Figure size 432x288 with 1 Axes>"
      ]
     },
     "metadata": {
      "needs_background": "light"
     },
     "output_type": "display_data"
    },
    {
     "name": "stdout",
     "output_type": "stream",
     "text": [
      "\n",
      " Evaluate the linear regression model against the test set:\n",
      "WARNING:tensorflow:Layers in a Sequential model should only have a single input tensor, but we receive a <class 'dict'> input: {'longitude': <tf.Tensor 'ExpandDims_3:0' shape=(1000, 1) dtype=float32>, 'latitude': <tf.Tensor 'ExpandDims_2:0' shape=(1000, 1) dtype=float32>, 'housing_median_age': <tf.Tensor 'ExpandDims_1:0' shape=(1000, 1) dtype=float32>, 'total_rooms': <tf.Tensor 'ExpandDims_7:0' shape=(1000, 1) dtype=float32>, 'total_bedrooms': <tf.Tensor 'ExpandDims_6:0' shape=(1000, 1) dtype=float32>, 'population': <tf.Tensor 'ExpandDims_5:0' shape=(1000, 1) dtype=float32>, 'households': <tf.Tensor 'ExpandDims:0' shape=(1000, 1) dtype=float32>, 'median_income': <tf.Tensor 'ExpandDims_4:0' shape=(1000, 1) dtype=float32>}\n",
      "Consider rewriting this model with the Functional API.\n",
      "3/3 [==============================] - 0s 7ms/step - loss: 0.3781 - mean_squared_error: 0.3781\n"
     ]
    }
   ],
   "source": [
    "learning_rate = 0.01\n",
    "epochs = 30\n",
    "batch_size = 1000\n",
    "\n",
    "# Specify the label\n",
    "label_name = \"median_house_value\"\n",
    "\n",
    "# Establish the model's topography.\n",
    "my_model = create_model(learning_rate, my_feature_layer)\n",
    "\n",
    "# Train the model on the normalized training set. We're passing the entire\n",
    "# normalized training set, but the model will only use the features\n",
    "# defined by the feature_layer.\n",
    "epochs, mse = train_model(my_model, train_df_norm, epochs, batch_size,\n",
    "                          label_name)\n",
    "plot_the_loss_curve(epochs, mse)\n",
    "\n",
    "test_model(my_model, test_df_norm, batch_size, label_name)"
   ]
  },
  {
   "cell_type": "markdown",
   "id": "a4b81599",
   "metadata": {},
   "source": [
    "Two layers outperformed one layer, but three layers did not perform significantly better than two layers; two layers outperformed one layer. In other words, two layers seemed best. Setting the topography as follows produced reasonably good results with relatively few nodes:\n",
    "   * 10 nodes in the first layer.\n",
    "   *  6 nodes in the second layer."
   ]
  },
  {
   "cell_type": "markdown",
   "id": "1581c76c",
   "metadata": {},
   "source": [
    "###  Ahora podemos añadir  L1 o L2  o un dropout"
   ]
  },
  {
   "cell_type": "markdown",
   "id": "fce7dcce",
   "metadata": {},
   "source": [
    "Esto porque como podemos ver el modelo esta overfitting el training set entonces seria adecuado poner una de las dos regularizaciones."
   ]
  },
  {
   "cell_type": "code",
   "execution_count": 60,
   "id": "f36e16bf",
   "metadata": {},
   "outputs": [],
   "source": [
    "def create_model_new(my_learning_rate, my_feature_layer):\n",
    "  \"\"\"Create and compile a simple linear regression model.\"\"\"\n",
    "\n",
    "  # Discard any pre-existing version of the model.\n",
    "  model = None\n",
    "\n",
    "  # Most simple tf.keras models are sequential.\n",
    "  model = tf.keras.models.Sequential()\n",
    "\n",
    "  # Add the layer containing the feature columns to the model.\n",
    "  model.add(my_feature_layer)\n",
    "\n",
    "  # Describe the topography of the model. \n",
    "\n",
    "  # Implement L2 regularization in the first hidden layer.\n",
    "  model.add(tf.keras.layers.Dense(units=20, \n",
    "                                  activation='relu',\n",
    "                                  kernel_regularizer=tf.keras.regularizers.l2(0.04),\n",
    "                                  name='Hidden1'))\n",
    "  \n",
    "  # Implement L2 regularization in the second hidden layer.\n",
    "  model.add(tf.keras.layers.Dense(units=12, \n",
    "                                  activation='relu', \n",
    "                                  kernel_regularizer=tf.keras.regularizers.l2(0.04),\n",
    "                                  name='Hidden2'))\n",
    "\n",
    "  # Define the output layer.\n",
    "  model.add(tf.keras.layers.Dense(units=1,  \n",
    "                                  name='Output'))                              \n",
    "  \n",
    "  model.compile(optimizer=tf.keras.optimizers.Adam(lr=my_learning_rate),\n",
    "                loss=\"mean_squared_error\",\n",
    "                metrics=[tf.keras.metrics.MeanSquaredError()])\n",
    "\n",
    "  return model"
   ]
  },
  {
   "cell_type": "markdown",
   "id": "307ed72c",
   "metadata": {},
   "source": [
    "Como podemos ver no es que estemos metiendo un layer nuevo, sino que en los layers existentes se añade la regularizacion L2 en este caso porque es mas conveniente, pero tambien podria ser la L1 de la misma manera. \n",
    "\n",
    "Ahora hacemos una prueba de nuevo para ver que el fallo del train set es mas parecido al del test set que antes, por lo que esta menos overfitted"
   ]
  },
  {
   "cell_type": "code",
   "execution_count": 61,
   "id": "bca1e4a9",
   "metadata": {},
   "outputs": [
    {
     "name": "stdout",
     "output_type": "stream",
     "text": [
      "Epoch 1/30\n",
      "WARNING:tensorflow:Layers in a Sequential model should only have a single input tensor, but we receive a <class 'dict'> input: {'longitude': <tf.Tensor 'ExpandDims_3:0' shape=(1000, 1) dtype=float32>, 'latitude': <tf.Tensor 'ExpandDims_2:0' shape=(1000, 1) dtype=float32>, 'housing_median_age': <tf.Tensor 'ExpandDims_1:0' shape=(1000, 1) dtype=float32>, 'total_rooms': <tf.Tensor 'ExpandDims_7:0' shape=(1000, 1) dtype=float32>, 'total_bedrooms': <tf.Tensor 'ExpandDims_6:0' shape=(1000, 1) dtype=float32>, 'population': <tf.Tensor 'ExpandDims_5:0' shape=(1000, 1) dtype=float32>, 'households': <tf.Tensor 'ExpandDims:0' shape=(1000, 1) dtype=float32>, 'median_income': <tf.Tensor 'ExpandDims_4:0' shape=(1000, 1) dtype=float32>}\n",
      "Consider rewriting this model with the Functional API.\n"
     ]
    },
    {
     "name": "stderr",
     "output_type": "stream",
     "text": [
      "C:\\Users\\Candel\\anaconda3\\lib\\site-packages\\tensorflow\\python\\keras\\optimizer_v2\\optimizer_v2.py:374: UserWarning: The `lr` argument is deprecated, use `learning_rate` instead.\n",
      "  warnings.warn(\n"
     ]
    },
    {
     "name": "stdout",
     "output_type": "stream",
     "text": [
      "WARNING:tensorflow:Layers in a Sequential model should only have a single input tensor, but we receive a <class 'dict'> input: {'longitude': <tf.Tensor 'ExpandDims_3:0' shape=(1000, 1) dtype=float32>, 'latitude': <tf.Tensor 'ExpandDims_2:0' shape=(1000, 1) dtype=float32>, 'housing_median_age': <tf.Tensor 'ExpandDims_1:0' shape=(1000, 1) dtype=float32>, 'total_rooms': <tf.Tensor 'ExpandDims_7:0' shape=(1000, 1) dtype=float32>, 'total_bedrooms': <tf.Tensor 'ExpandDims_6:0' shape=(1000, 1) dtype=float32>, 'population': <tf.Tensor 'ExpandDims_5:0' shape=(1000, 1) dtype=float32>, 'households': <tf.Tensor 'ExpandDims:0' shape=(1000, 1) dtype=float32>, 'median_income': <tf.Tensor 'ExpandDims_4:0' shape=(1000, 1) dtype=float32>}\n",
      "Consider rewriting this model with the Functional API.\n",
      "17/17 [==============================] - 1s 4ms/step - loss: 1.6665 - mean_squared_error: 0.6931\n",
      "Epoch 2/30\n",
      "17/17 [==============================] - 0s 5ms/step - loss: 0.6594 - mean_squared_error: 0.4217\n",
      "Epoch 3/30\n",
      "17/17 [==============================] - 0s 5ms/step - loss: 0.5164 - mean_squared_error: 0.3914\n",
      "Epoch 4/30\n",
      "17/17 [==============================] - 0s 5ms/step - loss: 0.4651 - mean_squared_error: 0.3797\n",
      "Epoch 5/30\n",
      "17/17 [==============================] - 0s 4ms/step - loss: 0.4511 - mean_squared_error: 0.3756\n",
      "Epoch 6/30\n",
      "17/17 [==============================] - 0s 5ms/step - loss: 0.4415 - mean_squared_error: 0.3734\n",
      "Epoch 7/30\n",
      "17/17 [==============================] - 0s 4ms/step - loss: 0.4349 - mean_squared_error: 0.3697\n",
      "Epoch 8/30\n",
      "17/17 [==============================] - 0s 5ms/step - loss: 0.4289 - mean_squared_error: 0.3671\n",
      "Epoch 9/30\n",
      "17/17 [==============================] - 0s 4ms/step - loss: 0.4250 - mean_squared_error: 0.3660\n",
      "Epoch 10/30\n",
      "17/17 [==============================] - 0s 4ms/step - loss: 0.4215 - mean_squared_error: 0.3641\n",
      "Epoch 11/30\n",
      "17/17 [==============================] - 0s 4ms/step - loss: 0.4199 - mean_squared_error: 0.3641\n",
      "Epoch 12/30\n",
      "17/17 [==============================] - 0s 4ms/step - loss: 0.4167 - mean_squared_error: 0.3616\n",
      "Epoch 13/30\n",
      "17/17 [==============================] - 0s 5ms/step - loss: 0.4163 - mean_squared_error: 0.3639\n",
      "Epoch 14/30\n",
      "17/17 [==============================] - 0s 5ms/step - loss: 0.4158 - mean_squared_error: 0.3636\n",
      "Epoch 15/30\n",
      "17/17 [==============================] - 0s 5ms/step - loss: 0.4141 - mean_squared_error: 0.3621\n",
      "Epoch 16/30\n",
      "17/17 [==============================] - 0s 4ms/step - loss: 0.4102 - mean_squared_error: 0.3603\n",
      "Epoch 17/30\n",
      "17/17 [==============================] - 0s 4ms/step - loss: 0.4082 - mean_squared_error: 0.3582\n",
      "Epoch 18/30\n",
      "17/17 [==============================] - 0s 5ms/step - loss: 0.4072 - mean_squared_error: 0.3580\n",
      "Epoch 19/30\n",
      "17/17 [==============================] - 0s 5ms/step - loss: 0.4066 - mean_squared_error: 0.3583\n",
      "Epoch 20/30\n",
      "17/17 [==============================] - 0s 4ms/step - loss: 0.4065 - mean_squared_error: 0.3583\n",
      "Epoch 21/30\n",
      "17/17 [==============================] - 0s 4ms/step - loss: 0.4073 - mean_squared_error: 0.3596\n",
      "Epoch 22/30\n",
      "17/17 [==============================] - 0s 4ms/step - loss: 0.4104 - mean_squared_error: 0.3640\n",
      "Epoch 23/30\n",
      "17/17 [==============================] - 0s 4ms/step - loss: 0.4100 - mean_squared_error: 0.3630\n",
      "Epoch 24/30\n",
      "17/17 [==============================] - 0s 4ms/step - loss: 0.4047 - mean_squared_error: 0.3583\n",
      "Epoch 25/30\n",
      "17/17 [==============================] - 0s 5ms/step - loss: 0.4055 - mean_squared_error: 0.3605\n",
      "Epoch 26/30\n",
      "17/17 [==============================] - 0s 4ms/step - loss: 0.4013 - mean_squared_error: 0.3558\n",
      "Epoch 27/30\n",
      "17/17 [==============================] - 0s 5ms/step - loss: 0.4014 - mean_squared_error: 0.3575\n",
      "Epoch 28/30\n",
      "17/17 [==============================] - 0s 4ms/step - loss: 0.4000 - mean_squared_error: 0.3553\n",
      "Epoch 29/30\n",
      "17/17 [==============================] - 0s 4ms/step - loss: 0.3999 - mean_squared_error: 0.3562\n",
      "Epoch 30/30\n",
      "17/17 [==============================] - 0s 4ms/step - loss: 0.3983 - mean_squared_error: 0.3556\n"
     ]
    },
    {
     "data": {
      "image/png": "[encoded data removed]",
      "text/plain": [
       "<Figure size 432x288 with 1 Axes>"
      ]
     },
     "metadata": {
      "needs_background": "light"
     },
     "output_type": "display_data"
    },
    {
     "name": "stdout",
     "output_type": "stream",
     "text": [
      "\n",
      " Evaluate the linear regression model against the test set:\n",
      "WARNING:tensorflow:Layers in a Sequential model should only have a single input tensor, but we receive a <class 'dict'> input: {'longitude': <tf.Tensor 'ExpandDims_3:0' shape=(1000, 1) dtype=float32>, 'latitude': <tf.Tensor 'ExpandDims_2:0' shape=(1000, 1) dtype=float32>, 'housing_median_age': <tf.Tensor 'ExpandDims_1:0' shape=(1000, 1) dtype=float32>, 'total_rooms': <tf.Tensor 'ExpandDims_7:0' shape=(1000, 1) dtype=float32>, 'total_bedrooms': <tf.Tensor 'ExpandDims_6:0' shape=(1000, 1) dtype=float32>, 'population': <tf.Tensor 'ExpandDims_5:0' shape=(1000, 1) dtype=float32>, 'households': <tf.Tensor 'ExpandDims:0' shape=(1000, 1) dtype=float32>, 'median_income': <tf.Tensor 'ExpandDims_4:0' shape=(1000, 1) dtype=float32>}\n",
      "Consider rewriting this model with the Functional API.\n",
      "3/3 [==============================] - 0s 4ms/step - loss: 0.4362 - mean_squared_error: 0.3905\n"
     ]
    }
   ],
   "source": [
    "learning_rate = 0.01\n",
    "epochs = 30\n",
    "batch_size = 1000\n",
    "\n",
    "# Specify the label\n",
    "label_name = \"median_house_value\"\n",
    "\n",
    "# Establish the model's topography.\n",
    "my_model = create_model_new(learning_rate, my_feature_layer)\n",
    "\n",
    "# Train the model on the normalized training set. We're passing the entire\n",
    "# normalized training set, but the model will only use the features\n",
    "# defined by the feature_layer.\n",
    "epochs, mse = train_model(my_model, train_df_norm, epochs, batch_size,\n",
    "                          label_name)\n",
    "plot_the_loss_curve(epochs, mse)\n",
    "\n",
    "test_model(my_model, test_df_norm, batch_size, label_name)"
   ]
  },
  {
   "cell_type": "markdown",
   "id": "fb925500",
   "metadata": {},
   "source": [
    "A pesar de esto, sigue estando algo overfitted, no nos vamos a engañar"
   ]
  },
  {
   "cell_type": "markdown",
   "id": "3f974022",
   "metadata": {},
   "source": [
    "Si hubieramos querido añadir un dropout lo unico que teniamos que hacer en en la funcion create_model entre hidden layer y hidden layer añadir * model.add(tf.keras.layers.Dropout(rate=0.25)) * y eso reduce el loss tmb(comprobado), mas incluso que L2 en este caso"
   ]
  },
  {
   "cell_type": "code",
   "execution_count": null,
   "id": "090fa69f",
   "metadata": {},
   "outputs": [],
   "source": []
  }
 ],
 "metadata": {
  "kernelspec": {
   "display_name": "Python 3",
   "language": "python",
   "name": "python3"
  },
  "language_info": {
   "codemirror_mode": {
    "name": "ipython",
    "version": 3
   },
   "file_extension": ".py",
   "mimetype": "text/x-python",
   "name": "python",
   "nbconvert_exporter": "python",
   "pygments_lexer": "ipython3",
   "version": "3.8.8"
  }
 },
 "nbformat": 4,
 "nbformat_minor": 5
}
